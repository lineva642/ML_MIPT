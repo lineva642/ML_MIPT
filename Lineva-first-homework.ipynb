{
 "cells": [
  {
   "cell_type": "code",
   "execution_count": 447,
   "metadata": {
    "_cell_guid": "b1076dfc-b9ad-4769-8c92-a6c4dae69d19",
    "_uuid": "8f2839f25d086af736a60e9eeb907d3b93b6e0e5"
   },
   "outputs": [
    {
     "name": "stdout",
     "output_type": "stream",
     "text": [
      "/kaggle/input/house-prices-advanced-regression-techniques/sample_submission.csv\n",
      "/kaggle/input/house-prices-advanced-regression-techniques/data_description.txt\n",
      "/kaggle/input/house-prices-advanced-regression-techniques/test.csv\n",
      "/kaggle/input/house-prices-advanced-regression-techniques/train.csv\n"
     ]
    }
   ],
   "source": [
    "# This Python 3 environment comes with many helpful analytics libraries installed\n",
    "# It is defined by the kaggle/python Docker image: https://github.com/kaggle/docker-python\n",
    "# For example, here's several helpful packages to load\n",
    "\n",
    "import numpy as np # linear algebra\n",
    "import pandas as pd # data processing, CSV file I/O (e.g. pd.read_csv)\n",
    "\n",
    "# Input data files are available in the read-only \"../input/\" directory\n",
    "# For example, running this (by clicking run or pressing Shift+Enter) will list all files under the input directory\n",
    "\n",
    "import os\n",
    "for dirname, _, filenames in os.walk('/kaggle/input'):\n",
    "    for filename in filenames:\n",
    "        print(os.path.join(dirname, filename))\n",
    "\n",
    "# You can write up to 5GB to the current directory (/kaggle/working/) that gets preserved as output when you create a version using \"Save & Run All\" \n",
    "# You can also write temporary files to /kaggle/temp/, but they won't be saved outside of the current session"
   ]
  },
  {
   "cell_type": "code",
   "execution_count": 448,
   "metadata": {
    "_cell_guid": "79c7e3d0-c299-4dcb-8224-4455121ee9b0",
    "_uuid": "d629ff2d2480ee46fbb7e2d37f6b5fab8052498a"
   },
   "outputs": [],
   "source": [
    "#first of all, we should download files and import LinearRegression\n",
    "from sklearn.linear_model import LinearRegression\n",
    "train = pd.read_csv('/kaggle/input/house-prices-advanced-regression-techniques/train.csv')\n",
    "test = pd.read_csv('/kaggle/input/house-prices-advanced-regression-techniques/test.csv')\n",
    "sample_submission = pd.read_csv (\"/kaggle/input/house-prices-advanced-regression-techniques/sample_submission.csv\")"
   ]
  },
  {
   "cell_type": "code",
   "execution_count": 449,
   "metadata": {},
   "outputs": [],
   "source": [
    "#secondly, we need to prepare our data\n",
    "\n",
    "##let's make it more convenient\n",
    "train['SalePriceLog'] =  np.log1p(train['SalePrice'])\n",
    "train['LotAreaLog'] =  np.log1p(train['LotArea'])\n",
    "test['LotAreaLog'] =  np.log1p(test['LotArea'])\n",
    "\n",
    "##normalize our 'YearBuilt' data\n",
    "_max = max(max(train['YearBuilt']), max(test['YearBuilt']))\n",
    "_min = min(min(train['YearBuilt']), min(test['YearBuilt']))\n",
    "train['YearBuilt'] = (train['YearBuilt'] - _min)/(_max - _min)\n",
    "test['YearBuilt'] = (test['YearBuilt'] - _min)/(_max - _min)"
   ]
  },
  {
   "cell_type": "markdown",
   "metadata": {},
   "source": [
    "### In class we've used such features as 'LotArea', 'YearBuilt'\n",
    "### Let's add some new features and build new models"
   ]
  },
  {
   "cell_type": "markdown",
   "metadata": {},
   "source": [
    "# First model\n",
    "\n",
    "### I've decided to add such feature as 'OverallCond'. I think that the house in a good condition should be more pricy than in a bad condition."
   ]
  },
  {
   "cell_type": "markdown",
   "metadata": {},
   "source": [
    "#### Let's see if there is any correlation between 'OverallCond' and 'SalePrice'."
   ]
  },
  {
   "cell_type": "code",
   "execution_count": 450,
   "metadata": {},
   "outputs": [],
   "source": [
    "_max = max(max(train['OverallCond']), max(test['OverallCond']))\n",
    "_min = min(min(train['OverallCond']), min(test['OverallCond']))\n",
    "train['OverallCond'] = (train['OverallCond'] - _min)/(_max - _min)\n",
    "test['OverallCond'] = (test['OverallCond'] - _min)/(_max - _min)"
   ]
  },
  {
   "cell_type": "code",
   "execution_count": 451,
   "metadata": {},
   "outputs": [
    {
     "data": {
      "image/png": "[encoded data removed]",
      "text/plain": [
       "<Figure size 576x576 with 1 Axes>"
      ]
     },
     "metadata": {
      "needs_background": "light"
     },
     "output_type": "display_data"
    }
   ],
   "source": [
    "plt.figure(figsize= (8,8))\n",
    "plt.scatter( train['OverallCond'], train['SalePriceLog'])\n",
    "plt.xlabel('OverallCond')\n",
    "plt.ylabel('SalePriceLog')\n",
    "plt.show()"
   ]
  },
  {
   "cell_type": "code",
   "execution_count": 452,
   "metadata": {},
   "outputs": [
    {
     "data": {
      "text/plain": [
       "LinearRegression()"
      ]
     },
     "execution_count": 452,
     "metadata": {},
     "output_type": "execute_result"
    }
   ],
   "source": [
    "#first of all, we should make a model\n",
    "reg = LinearRegression()\n",
    "reg.fit(train[['LotAreaLog','YearBuilt','OverallCond']],train['SalePriceLog'])"
   ]
  },
  {
   "cell_type": "code",
   "execution_count": 453,
   "metadata": {},
   "outputs": [
    {
     "name": "stdout",
     "output_type": "stream",
     "text": [
      "[0.29865856 1.20125911 0.61176977] 8.08900321329769\n"
     ]
    }
   ],
   "source": [
    "#let's print our regression coefficients\n",
    "print(reg.coef_, reg.intercept_)"
   ]
  },
  {
   "cell_type": "markdown",
   "metadata": {},
   "source": [
    "#### This way, we got our first linear regression model\n",
    "$$ a(x, \\textbf{w}) = w_0 + w_1 x_1 + w_2 x_2 + w_3 x_3= 8.089 + 0.299x_1 + 1.201x_2 + 0.612x_3, where$$\n",
    "\n",
    "$$x_1 is 'LotAreaLog'\\\\\n",
    "x_2 is 'YearBuilt'\\\\\n",
    "x_3 is 'OverallCond'$$"
   ]
  },
  {
   "cell_type": "code",
   "execution_count": 454,
   "metadata": {},
   "outputs": [],
   "source": [
    "#now we will use our model to make prediction on test data\n",
    "prediction = reg.predict(test[['LotAreaLog','YearBuilt','OverallCond']])"
   ]
  },
  {
   "cell_type": "code",
   "execution_count": 455,
   "metadata": {},
   "outputs": [],
   "source": [
    "#we need to save results of our prediction and submit it\n",
    "sample_submission['SalePrice']=  np.exp( prediction)-1\n",
    "sample_submission.to_csv('submission.csv', index = None)"
   ]
  },
  {
   "cell_type": "code",
   "execution_count": 456,
   "metadata": {},
   "outputs": [
    {
     "name": "stdout",
     "output_type": "stream",
     "text": [
      "KFold(n_splits=5, random_state=None, shuffle=False)\n",
      "model.coef_:  [0.29352984 1.21998606 0.63218808] 8.110001600223338\n",
      "0 0.2608276028897268\n",
      "model.coef_:  [0.30029281 1.16795076 0.58105792] 8.114865700182772\n",
      "1 0.2826222961873936\n",
      "model.coef_:  [0.29106673 1.19355566 0.61004737] 8.16284911638855\n",
      "2 0.2791031896774726\n",
      "model.coef_:  [0.30679481 1.1847809  0.60465232] 8.035975941344622\n",
      "3 0.2598741606277644\n",
      "model.coef_:  [0.301857   1.24060696 0.6289676 ] 8.019773070068162\n",
      "4 0.28466190078965314\n",
      "Mean rmse for 5-fold: 0.2734178300344021\n",
      "std rmse for 5-fold: 0.010820530847722078\n"
     ]
    }
   ],
   "source": [
    "#cross-validation time\n",
    "from sklearn.model_selection import KFold\n",
    "from sklearn.metrics import mean_squared_error, r2_score\n",
    "\n",
    "kf = KFold (n_splits = 5)\n",
    "kf.get_n_splits(train)\n",
    "\n",
    "print(kf)\n",
    "\n",
    "rmse_array = []\n",
    "\n",
    "i= 0   \n",
    "for i, (train_index, test_index) in enumerate(kf.split(train)):\n",
    "\n",
    "    X_train, X_test = train.loc[train_index, ['LotAreaLog','YearBuilt','OverallCond']], train.loc[test_index, ['LotAreaLog','YearBuilt','OverallCond']]\n",
    "    y_train, y_test = train.loc[train_index, 'SalePriceLog'], train.loc[test_index, 'SalePriceLog']\n",
    "    \n",
    "    model = LinearRegression()\n",
    "\n",
    "    model.fit(X_train, y_train)\n",
    "    print(\"model.coef_: \",model.coef_ , model.intercept_)\n",
    "    prediction = model.predict(X_test)\n",
    "    \n",
    "    rmse = np.sqrt(mean_squared_error(y_pred=prediction , y_true=y_test))    \n",
    "    rmse_array.append(rmse)\n",
    "    print(i, rmse)\n",
    "    \n",
    "print(\"Mean rmse for 5-fold: {}\".format(str(np.mean(rmse_array))))\n",
    "print(\"std rmse for 5-fold: {}\".format(str(np.std(rmse_array))))\n",
    "mean_rmse_1 = np.mean(rmse_array)"
   ]
  },
  {
   "cell_type": "markdown",
   "metadata": {},
   "source": [
    "# For our first linear regression model we got next results:\n",
    "\n",
    "### Kaggle score = 0.28014\n",
    "### Mean on folds of cross-validation = 0.27342"
   ]
  },
  {
   "cell_type": "markdown",
   "metadata": {},
   "source": [
    "# Second model\n",
    "\n",
    "### I've decided to add such feature as 'GarageArea' to the first model. Nowadays, each family has at least one car, so it will be important to have a garage area. Moreover, people can store a lot of unneccessary stuff there,so the area of garage should be quite big. "
   ]
  },
  {
   "cell_type": "markdown",
   "metadata": {},
   "source": [
    "#### Let's see if there is any correlation between 'GarageArea' and 'SalePrice'."
   ]
  },
  {
   "cell_type": "code",
   "execution_count": 457,
   "metadata": {},
   "outputs": [],
   "source": [
    "#the first thought that comes to mind is to use logarithms, but we have houses with zero garage area. So i've decided just to normalize it.\n",
    "_max = max(max(train['GarageArea']), max(test['GarageArea']))\n",
    "_min = min(min(train['GarageArea']), min(test['GarageArea']))\n",
    "train['GarageArea'] = (train['GarageArea'] - _min)/(_max - _min)\n",
    "test['GarageArea'] = (test['GarageArea'] - _min)/(_max - _min)"
   ]
  },
  {
   "cell_type": "code",
   "execution_count": 458,
   "metadata": {},
   "outputs": [],
   "source": [
    "#we have one None in test['GarageArea'],  I will substitute it with zero\n",
    "test['GarageArea'] = (test['GarageArea']).fillna(0)"
   ]
  },
  {
   "cell_type": "code",
   "execution_count": 459,
   "metadata": {},
   "outputs": [
    {
     "data": {
      "image/png": "[encoded data removed]",
      "text/plain": [
       "<Figure size 576x576 with 1 Axes>"
      ]
     },
     "metadata": {
      "needs_background": "light"
     },
     "output_type": "display_data"
    }
   ],
   "source": [
    "plt.figure(figsize= (8,8))\n",
    "plt.scatter( train['GarageArea'], train['SalePriceLog'])\n",
    "plt.xlabel('GarageArea')\n",
    "plt.ylabel('SalePriceLog')\n",
    "plt.show()"
   ]
  },
  {
   "cell_type": "code",
   "execution_count": 460,
   "metadata": {},
   "outputs": [
    {
     "data": {
      "text/plain": [
       "LinearRegression()"
      ]
     },
     "execution_count": 460,
     "metadata": {},
     "output_type": "execute_result"
    }
   ],
   "source": [
    "#let's make a model\n",
    "reg = LinearRegression()\n",
    "reg.fit(train[['LotAreaLog','YearBuilt','OverallCond','GarageArea']],train['SalePriceLog'])"
   ]
  },
  {
   "cell_type": "code",
   "execution_count": 461,
   "metadata": {},
   "outputs": [
    {
     "name": "stdout",
     "output_type": "stream",
     "text": [
      "[0.2116062  0.88141179 0.57794597 1.00585085] 8.811832435687261\n"
     ]
    }
   ],
   "source": [
    "#let's print our regression coefficients\n",
    "print(reg.coef_, reg.intercept_)"
   ]
  },
  {
   "cell_type": "markdown",
   "metadata": {},
   "source": [
    "#### This way, we got our second linear regression model\n",
    "$$ a(x, \\textbf{w}) = w_0 + w_1 x_1 + w_2 x_2 + w_3 x_3 + w_4 x_4= 8.812 + 0.212x_1 + 0.881x_2 + 0.578x_3 + 1.006x_4, where$$\n",
    "\n",
    "$$x_1 is 'LotAreaLog'\\\\\n",
    "x_2 is 'YearBuilt'\\\\\n",
    "x_3 is 'OverallCond'\\\\\n",
    "x_4 is 'GarageArea'$$"
   ]
  },
  {
   "cell_type": "code",
   "execution_count": 462,
   "metadata": {},
   "outputs": [],
   "source": [
    "#now we will use our model to make prediction on test data\n",
    "prediction = reg.predict(test[['LotAreaLog','YearBuilt','OverallCond','GarageArea']])"
   ]
  },
  {
   "cell_type": "code",
   "execution_count": 463,
   "metadata": {},
   "outputs": [],
   "source": [
    "#we need to save results of our prediction and submit it\n",
    "sample_submission['SalePrice']=  np.exp( prediction)-1\n",
    "sample_submission.to_csv('submission.csv', index = None)"
   ]
  },
  {
   "cell_type": "code",
   "execution_count": 464,
   "metadata": {},
   "outputs": [
    {
     "name": "stdout",
     "output_type": "stream",
     "text": [
      "KFold(n_splits=5, random_state=None, shuffle=False)\n",
      "model.coef_:  [0.20826126 0.90648062 0.59639964 0.98322082] 8.81843996797593\n",
      "0 0.22762202411174434\n",
      "model.coef_:  [0.21151249 0.87449048 0.56916566 0.96468071] 8.833924046488097\n",
      "1 0.24896253573688945\n",
      "model.coef_:  [0.20748938 0.87195155 0.57763994 0.99707641] 8.859169255413558\n",
      "2 0.25341295140905173\n",
      "model.coef_:  [0.21104858 0.85411095 0.56968134 1.05830998] 8.830298324805316\n",
      "3 0.24275463959924562\n",
      "model.coef_:  [0.21942952 0.89913606 0.57516398 1.0282686 ] 8.720949974761076\n",
      "4 0.25966447751875193\n",
      "Mean rmse for 5-fold: 0.2464833256751366\n",
      "std rmse for 5-fold: 0.010932161321391538\n"
     ]
    }
   ],
   "source": [
    "#cross-validation time\n",
    "# from sklearn.model_selection import KFold\n",
    "# from sklearn.metrics import mean_squared_error, r2_score\n",
    "\n",
    "kf = KFold (n_splits = 5)\n",
    "kf.get_n_splits(train)\n",
    "\n",
    "print(kf)\n",
    "\n",
    "rmse_array = []\n",
    "\n",
    "i= 0   \n",
    "for i, (train_index, test_index) in enumerate(kf.split(train)):\n",
    "\n",
    "    X_train, X_test = train.loc[train_index, ['LotAreaLog','YearBuilt','OverallCond','GarageArea']], train.loc[test_index, ['LotAreaLog','YearBuilt','OverallCond','GarageArea']]\n",
    "    y_train, y_test = train.loc[train_index, 'SalePriceLog'], train.loc[test_index, 'SalePriceLog']\n",
    "    \n",
    "    model = LinearRegression()\n",
    "\n",
    "    model.fit(X_train, y_train)\n",
    "    print(\"model.coef_: \",model.coef_ , model.intercept_)\n",
    "    prediction = model.predict(X_test)\n",
    "    \n",
    "    rmse = np.sqrt(mean_squared_error(y_pred=prediction , y_true=y_test))    \n",
    "    rmse_array.append(rmse)\n",
    "    print(i, rmse)\n",
    "    \n",
    "print(\"Mean rmse for 5-fold: {}\".format(str(np.mean(rmse_array))))\n",
    "print(\"std rmse for 5-fold: {}\".format(str(np.std(rmse_array))))\n",
    "mean_rmse_2 = np.mean(rmse_array)"
   ]
  },
  {
   "cell_type": "markdown",
   "metadata": {},
   "source": [
    "# For our second linear regression model we got next results:\n",
    "\n",
    "### Kaggle score = 0.25269\n",
    "### Mean on folds of cross-validation = 0.24648"
   ]
  },
  {
   "cell_type": "markdown",
   "metadata": {},
   "source": [
    "# Third model\n",
    "\n",
    "### I've decided to add such feature as 'HeatingQC' to the second model. I think people would like to leave in a house with good heating system (not be frozen to death or melt)."
   ]
  },
  {
   "cell_type": "markdown",
   "metadata": {},
   "source": [
    "#### Let's see if there is any correlation between 'HeatingQC' and 'SalePrice'."
   ]
  },
  {
   "cell_type": "markdown",
   "metadata": {},
   "source": [
    "According to data description we have the next range for HeatingQC:\n",
    "\n",
    "HeatingQC: Heating quality and condition\n",
    "\n",
    "       Ex\tExcellent\n",
    "       Gd\tGood\n",
    "       TA\tAverage/Typical\n",
    "       Fa\tFair\n",
    "       Po\tPoor\n",
    "       \n",
    "Let's turn it in numbers this way: Ex = 5, Gd = 4, TA = 3, Fa = 2, Po = 1       "
   ]
  },
  {
   "cell_type": "code",
   "execution_count": 465,
   "metadata": {},
   "outputs": [],
   "source": [
    "match={'Ex':5,'Gd':4,'TA':3,'Fa':2, 'Po':1}\n",
    "train['HeatingQC_number'] = np.nan\n",
    "train['HeatingQC_number'] = train['HeatingQC'].map(match).fillna(train['HeatingQC_number'])\n",
    "test['HeatingQC_number'] = np.nan\n",
    "test['HeatingQC_number'] = test['HeatingQC'].map(match).fillna(test['HeatingQC_number'])"
   ]
  },
  {
   "cell_type": "code",
   "execution_count": 466,
   "metadata": {},
   "outputs": [],
   "source": [
    "#I wold like to normalize Heating data\n",
    "_max = max(max(train['HeatingQC_number']), max(test['HeatingQC_number']))\n",
    "_min = min(min(train['HeatingQC_number']), min(test['HeatingQC_number']))\n",
    "train['HeatingQC_number'] = (train['HeatingQC_number'] - _min)/(_max - _min)\n",
    "test['HeatingQC_number'] = (test['HeatingQC_number'] - _min)/(_max - _min)"
   ]
  },
  {
   "cell_type": "code",
   "execution_count": 467,
   "metadata": {},
   "outputs": [
    {
     "data": {
      "image/png": "[encoded data removed]",
      "text/plain": [
       "<Figure size 576x576 with 1 Axes>"
      ]
     },
     "metadata": {
      "needs_background": "light"
     },
     "output_type": "display_data"
    }
   ],
   "source": [
    "plt.figure(figsize= (8,8))\n",
    "plt.scatter( train['HeatingQC_number'], train['SalePriceLog'])\n",
    "plt.xlabel('HeatingQC_number')\n",
    "plt.ylabel('SalePriceLog')\n",
    "plt.show()"
   ]
  },
  {
   "cell_type": "code",
   "execution_count": 468,
   "metadata": {},
   "outputs": [
    {
     "data": {
      "text/plain": [
       "LinearRegression()"
      ]
     },
     "execution_count": 468,
     "metadata": {},
     "output_type": "execute_result"
    }
   ],
   "source": [
    "#let's make a model\n",
    "reg = LinearRegression()\n",
    "reg.fit(train[['LotAreaLog','YearBuilt','OverallCond','GarageArea','HeatingQC_number']],train['SalePriceLog'])"
   ]
  },
  {
   "cell_type": "code",
   "execution_count": 469,
   "metadata": {},
   "outputs": [
    {
     "name": "stdout",
     "output_type": "stream",
     "text": [
      "[0.21056743 0.7241209  0.48472586 0.95744183 0.3054991 ] 8.762928266155958\n"
     ]
    }
   ],
   "source": [
    "#let's print our regression coefficients\n",
    "print(reg.coef_, reg.intercept_)"
   ]
  },
  {
   "cell_type": "markdown",
   "metadata": {},
   "source": [
    "#### This way, we got our third linear regression model\n",
    "$$ a(x, \\textbf{w}) = w_0 + w_1 x_1 + w_2 x_2 + w_3 x_3 + w_4 x_4 + w_5 x_5= 8.763 + 0.211x_1 + 0.724x_2 + 0.485x_3 + 0.957x_4 + 0.305x_5, where$$\n",
    "\n",
    "$$x_1 is 'LotAreaLog'\\\\\n",
    "x_2 is 'YearBuilt'\\\\\n",
    "x_3 is 'OverallCond'\\\\\n",
    "x_4 is 'GarageArea'\\\\\n",
    "x_5 is 'HeatingQCnumber'$$"
   ]
  },
  {
   "cell_type": "code",
   "execution_count": 470,
   "metadata": {},
   "outputs": [],
   "source": [
    "#now we will use our model to make prediction on test data\n",
    "prediction = reg.predict(test[['LotAreaLog','YearBuilt','OverallCond','GarageArea','HeatingQC_number']])"
   ]
  },
  {
   "cell_type": "code",
   "execution_count": 471,
   "metadata": {},
   "outputs": [],
   "source": [
    "#we need to save results of our prediction and submit it\n",
    "sample_submission['SalePrice']=  np.exp( prediction)-1\n",
    "sample_submission.to_csv('submission.csv', index = None)"
   ]
  },
  {
   "cell_type": "code",
   "execution_count": 472,
   "metadata": {},
   "outputs": [
    {
     "name": "stdout",
     "output_type": "stream",
     "text": [
      "KFold(n_splits=5, random_state=None, shuffle=False)\n",
      "model.coef_:  [0.20710845 0.75394034 0.50237134 0.9400762  0.28836259] 8.7797689948171\n",
      "0 0.21488362906919112\n",
      "model.coef_:  [0.21221206 0.70728808 0.47200036 0.91891521 0.32128399] 8.765864735572098\n",
      "1 0.24368473785456207\n",
      "model.coef_:  [0.20541792 0.72716983 0.49898681 0.93690048 0.29043741] 8.818093740820515\n",
      "2 0.24258342095907567\n",
      "model.coef_:  [0.2129903  0.70204819 0.47675055 1.00668785 0.30694133] 8.748312715355102\n",
      "3 0.23413544902459899\n",
      "model.coef_:  [0.2150354  0.72820624 0.47085071 0.98817286 0.32128334] 8.704533180872609\n",
      "4 0.2546886619053988\n",
      "Mean rmse for 5-fold: 0.23799517976256532\n",
      "std rmse for 5-fold: 0.01327506437976606\n"
     ]
    }
   ],
   "source": [
    "#cross-validation time\n",
    "# from sklearn.model_selection import KFold\n",
    "# from sklearn.metrics import mean_squared_error, r2_score\n",
    "\n",
    "kf = KFold (n_splits = 5)\n",
    "kf.get_n_splits(train)\n",
    "\n",
    "print(kf)\n",
    "\n",
    "rmse_array = []\n",
    "\n",
    "i= 0   \n",
    "for i, (train_index, test_index) in enumerate(kf.split(train)):\n",
    "\n",
    "    X_train, X_test = train.loc[train_index, ['LotAreaLog','YearBuilt','OverallCond','GarageArea','HeatingQC_number']], train.loc[test_index, ['LotAreaLog','YearBuilt','OverallCond','GarageArea','HeatingQC_number']]\n",
    "    y_train, y_test = train.loc[train_index, 'SalePriceLog'], train.loc[test_index, 'SalePriceLog']\n",
    "    \n",
    "    model = LinearRegression()\n",
    "\n",
    "    model.fit(X_train, y_train)\n",
    "    print(\"model.coef_: \",model.coef_ , model.intercept_)\n",
    "    prediction = model.predict(X_test)\n",
    "    \n",
    "    rmse = np.sqrt(mean_squared_error(y_pred=prediction , y_true=y_test))    \n",
    "    rmse_array.append(rmse)\n",
    "    print(i, rmse)\n",
    "    \n",
    "print(\"Mean rmse for 5-fold: {}\".format(str(np.mean(rmse_array))))\n",
    "print(\"std rmse for 5-fold: {}\".format(str(np.std(rmse_array))))\n",
    "mean_rmse_3 = np.mean(rmse_array)"
   ]
  },
  {
   "cell_type": "markdown",
   "metadata": {},
   "source": [
    "# For our third linear regression model we got next results:\n",
    "\n",
    "### Kaggle score = 0.24272\n",
    "### Mean on folds of cross-validation = 0.23800"
   ]
  },
  {
   "cell_type": "markdown",
   "metadata": {},
   "source": [
    "# Fourth model\n",
    "\n",
    "### I've decided to add such feature as 'BsmtCond' to the third model. Basement is the most important part of the house. If it's in a bad condition the risk that the house will go down is high."
   ]
  },
  {
   "cell_type": "markdown",
   "metadata": {},
   "source": [
    "#### Let's see if there is any correlation between 'BsmtCond' and 'SalePrice'."
   ]
  },
  {
   "cell_type": "markdown",
   "metadata": {},
   "source": [
    "According to data description we have the next range for BsmtCond:\n",
    "\n",
    "BsmtCond: Evaluates the general condition of the basement\n",
    "\n",
    "       Ex\tExcellent\n",
    "       Gd\tGood\n",
    "       TA\tTypical - slight dampness allowed\n",
    "       Fa\tFair - dampness or some cracking or settling\n",
    "       Po\tPoor - Severe cracking, settling, or wetness\n",
    "       NA\tNo Basement\n",
    "       \n",
    "Let's substitute it with numbers: NA=0, Po=1, Fa=2, TA=3, Gd=4, Ex=5.       "
   ]
  },
  {
   "cell_type": "code",
   "execution_count": 473,
   "metadata": {},
   "outputs": [],
   "source": [
    "match={'Ex':5,'Gd':4,'TA':3,'Fa':2, 'Po':1, 'NA':0}\n",
    "train['BsmtCond_number'] = np.nan\n",
    "train['BsmtCond_number'] = train['BsmtCond'].map(match).fillna(train['BsmtCond_number'])\n",
    "test['BsmtCond_number'] = np.nan\n",
    "test['BsmtCond_number'] = test['BsmtCond'].map(match).fillna(test['BsmtCond_number'])"
   ]
  },
  {
   "cell_type": "code",
   "execution_count": 474,
   "metadata": {},
   "outputs": [],
   "source": [
    "train['BsmtCond_number'] = (train['BsmtCond_number']).fillna(0)\n",
    "test['BsmtCond_number'] = (test['BsmtCond_number']).fillna(0)"
   ]
  },
  {
   "cell_type": "code",
   "execution_count": 475,
   "metadata": {},
   "outputs": [],
   "source": [
    "#I wold like to normalize Basement Condition data\n",
    "_max = max(max(train['BsmtCond_number']), max(test['BsmtCond_number']))\n",
    "_min = min(min(train['BsmtCond_number']), min(test['BsmtCond_number']))\n",
    "train['BsmtCond_number'] = (train['BsmtCond_number'] - _min)/(_max - _min)\n",
    "test['BsmtCond_number'] = (test['BsmtCond_number'] - _min)/(_max - _min)"
   ]
  },
  {
   "cell_type": "code",
   "execution_count": 476,
   "metadata": {},
   "outputs": [
    {
     "data": {
      "image/png": "[encoded data removed]",
      "text/plain": [
       "<Figure size 576x576 with 1 Axes>"
      ]
     },
     "metadata": {
      "needs_background": "light"
     },
     "output_type": "display_data"
    }
   ],
   "source": [
    "plt.figure(figsize= (8,8))\n",
    "plt.scatter( train['BsmtCond_number'], train['SalePriceLog'])\n",
    "plt.xlabel('BsmtCond_number')\n",
    "plt.ylabel('SalePriceLog')\n",
    "plt.show()"
   ]
  },
  {
   "cell_type": "code",
   "execution_count": 477,
   "metadata": {},
   "outputs": [
    {
     "data": {
      "text/plain": [
       "LinearRegression()"
      ]
     },
     "execution_count": 477,
     "metadata": {},
     "output_type": "execute_result"
    }
   ],
   "source": [
    "#let's make a model\n",
    "reg = LinearRegression()\n",
    "reg.fit(train[['LotAreaLog','YearBuilt','OverallCond','GarageArea','HeatingQC_number','BsmtCond_number']],train['SalePriceLog'])"
   ]
  },
  {
   "cell_type": "code",
   "execution_count": 478,
   "metadata": {},
   "outputs": [
    {
     "name": "stdout",
     "output_type": "stream",
     "text": [
      "[0.21029972 0.68514633 0.42076601 0.94250086 0.2947836  0.29156768] 8.629224802097806\n"
     ]
    }
   ],
   "source": [
    "#let's print our regression coefficients\n",
    "print(reg.coef_, reg.intercept_)"
   ]
  },
  {
   "cell_type": "markdown",
   "metadata": {},
   "source": [
    "#### This way, we got our fourth linear regression model\n",
    "$$ a(x, \\textbf{w}) = w_0 + w_1 x_1 + w_2 x_2 + w_3 x_3 + w_4 x_4 + w_5 x_5 + w_6 x_6= 8.629 + 0.210x_1 + 0.685x_2 + 0.421x_3 + 0.943x_4 + 0.295x_5 + 0.292x_6, where$$\n",
    "\n",
    "$$x_1 is 'LotAreaLog'\\\\\n",
    "x_2 is 'YearBuilt'\\\\\n",
    "x_3 is 'OverallCond'\\\\\n",
    "x_4 is 'GarageArea'\\\\\n",
    "x_5 is 'HeatingQCnumber'\\\\\n",
    "x_6 is 'BsmtCondnumber'$$"
   ]
  },
  {
   "cell_type": "code",
   "execution_count": 479,
   "metadata": {},
   "outputs": [],
   "source": [
    "#now we will use our model to make prediction on test data\n",
    "prediction = reg.predict(test[['LotAreaLog','YearBuilt','OverallCond','GarageArea','HeatingQC_number','BsmtCond_number']])"
   ]
  },
  {
   "cell_type": "code",
   "execution_count": 480,
   "metadata": {},
   "outputs": [],
   "source": [
    "#we need to save results of our prediction and submit it\n",
    "sample_submission['SalePrice']=  np.exp( prediction)-1\n",
    "sample_submission.to_csv('submission.csv', index = None)"
   ]
  },
  {
   "cell_type": "code",
   "execution_count": 481,
   "metadata": {},
   "outputs": [
    {
     "name": "stdout",
     "output_type": "stream",
     "text": [
      "KFold(n_splits=5, random_state=None, shuffle=False)\n",
      "model.coef_:  [0.206529   0.71161473 0.43584668 0.92642684 0.27668772 0.28514588] 8.657860101109087\n",
      "0 0.21088355101867165\n",
      "model.coef_:  [0.21248342 0.67293646 0.41092579 0.9034136  0.31031042 0.28492163] 8.627246535382072\n",
      "1 0.23970583177691446\n",
      "model.coef_:  [0.20534108 0.69021878 0.43472023 0.91657937 0.27702673 0.31712579] 8.666735016497231\n",
      "2 0.24243345679439418\n",
      "model.coef_:  [0.21153045 0.66373915 0.41416978 0.9942333  0.29626389 0.28546499] 8.627603840073368\n",
      "3 0.2296528822544082\n",
      "model.coef_:  [0.21550655 0.68540316 0.40560747 0.97576678 0.31451128 0.28501251] 8.56876802251336\n",
      "4 0.25185394272012357\n",
      "Mean rmse for 5-fold: 0.2349059329129024\n",
      "std rmse for 5-fold: 0.013939921480480512\n"
     ]
    }
   ],
   "source": [
    "#cross-validation time\n",
    "# from sklearn.model_selection import KFold\n",
    "# from sklearn.metrics import mean_squared_error, r2_score\n",
    "\n",
    "kf = KFold (n_splits = 5)\n",
    "kf.get_n_splits(train)\n",
    "\n",
    "print(kf)\n",
    "\n",
    "rmse_array = []\n",
    "\n",
    "i= 0   \n",
    "for i, (train_index, test_index) in enumerate(kf.split(train)):\n",
    "\n",
    "    X_train, X_test = train.loc[train_index, ['LotAreaLog','YearBuilt','OverallCond','GarageArea','HeatingQC_number','BsmtCond_number']], train.loc[test_index, ['LotAreaLog','YearBuilt','OverallCond','GarageArea','HeatingQC_number','BsmtCond_number']]\n",
    "    y_train, y_test = train.loc[train_index, 'SalePriceLog'], train.loc[test_index, 'SalePriceLog']\n",
    "    \n",
    "    model = LinearRegression()\n",
    "\n",
    "    model.fit(X_train, y_train)\n",
    "    print(\"model.coef_: \",model.coef_ , model.intercept_)\n",
    "    prediction = model.predict(X_test)\n",
    "    \n",
    "    rmse = np.sqrt(mean_squared_error(y_pred=prediction , y_true=y_test))    \n",
    "    rmse_array.append(rmse)\n",
    "    print(i, rmse)\n",
    "    \n",
    "print(\"Mean rmse for 5-fold: {}\".format(str(np.mean(rmse_array))))\n",
    "print(\"std rmse for 5-fold: {}\".format(str(np.std(rmse_array))))\n",
    "mean_rmse_4 = np.mean(rmse_array)"
   ]
  },
  {
   "cell_type": "markdown",
   "metadata": {},
   "source": [
    "# For our fourth linear regression model we got next results:\n",
    "\n",
    "### Kaggle score = 0.23801\n",
    "### Mean on folds of cross-validation = 0.23491"
   ]
  },
  {
   "cell_type": "markdown",
   "metadata": {},
   "source": [
    "# Fifth model\n",
    "### I've decided to add such feature as 'LandSlope' to the fourth model. I think it is quite hard to built smth on land with severe slope."
   ]
  },
  {
   "cell_type": "markdown",
   "metadata": {},
   "source": [
    "#### Let's see if there is any correlation between 'LandSlope' and 'SalePrice'."
   ]
  },
  {
   "cell_type": "markdown",
   "metadata": {},
   "source": [
    "According to data description we have the next range for LandSlope:\n",
    "\n",
    "LandSlope: Slope of property\n",
    "\t\t\n",
    "       Gtl\tGentle slope\n",
    "       Mod\tModerate Slope\t\n",
    "       Sev\tSevere Slope\n",
    "       \n",
    "Let's substitute it with numbers: Gtl = 3, Mod = 2, Sev = 1       "
   ]
  },
  {
   "cell_type": "code",
   "execution_count": 482,
   "metadata": {},
   "outputs": [],
   "source": [
    "match={'Gtl':3,'Mod':2,'Sev':1}\n",
    "train['LandSlope_number'] = np.nan\n",
    "train['LandSlope_number'] = train['LandSlope'].map(match).fillna(train['LandSlope_number'])\n",
    "test['LandSlope_number'] = np.nan\n",
    "test['LandSlope_number'] = test['LandSlope'].map(match).fillna(test['LandSlope_number'])"
   ]
  },
  {
   "cell_type": "code",
   "execution_count": 483,
   "metadata": {},
   "outputs": [],
   "source": [
    "#I wold like to normalize Land Slope data\n",
    "_max = max(max(train['LandSlope_number']), max(test['LandSlope_number']))\n",
    "_min = min(min(train['LandSlope_number']), min(test['LandSlope_number']))\n",
    "train['LandSlope_number'] = (train['LandSlope_number'] - _min)/(_max - _min)\n",
    "test['LandSlope_number'] = (test['LandSlope_number'] - _min)/(_max - _min)"
   ]
  },
  {
   "cell_type": "code",
   "execution_count": 484,
   "metadata": {},
   "outputs": [
    {
     "data": {
      "image/png": "[encoded data removed]",
      "text/plain": [
       "<Figure size 576x576 with 1 Axes>"
      ]
     },
     "metadata": {
      "needs_background": "light"
     },
     "output_type": "display_data"
    }
   ],
   "source": [
    "plt.figure(figsize= (8,8))\n",
    "plt.scatter( train['LandSlope_number'], train['SalePriceLog'])\n",
    "plt.xlabel('LandSlope_number')\n",
    "plt.ylabel('SalePriceLog')\n",
    "plt.show()"
   ]
  },
  {
   "cell_type": "code",
   "execution_count": 485,
   "metadata": {},
   "outputs": [
    {
     "data": {
      "text/plain": [
       "LinearRegression()"
      ]
     },
     "execution_count": 485,
     "metadata": {},
     "output_type": "execute_result"
    }
   ],
   "source": [
    "#let's make a model\n",
    "reg = LinearRegression()\n",
    "reg.fit(train[['LotAreaLog','YearBuilt','OverallCond','GarageArea','HeatingQC_number','BsmtCond_number','LandSlope_number']],train['SalePriceLog'])"
   ]
  },
  {
   "cell_type": "code",
   "execution_count": 486,
   "metadata": {},
   "outputs": [
    {
     "name": "stdout",
     "output_type": "stream",
     "text": [
      "[ 0.2101144   0.68522854  0.42082309  0.94264098  0.29483914  0.29145074\n",
      " -0.00251413] 8.633254890091267\n"
     ]
    }
   ],
   "source": [
    "#let's print our regression coefficients\n",
    "print(reg.coef_, reg.intercept_)"
   ]
  },
  {
   "cell_type": "markdown",
   "metadata": {},
   "source": [
    "#### This way, we got our fifth linear regression model\n",
    "$$ a(x, \\textbf{w}) = w_0 + w_1 x_1 + w_2 x_2 + w_3 x_3 + w_4 x_4 + w_5 x_5 + w_6 x_6 + w_7 x_7= 8.633 + 0.210x_1 + 0.685x_2 + 0.421x_3 + 0.943x_4 + 0.295x_5 + 0.291x_6 - 0.003x_7, where$$\n",
    "\n",
    "$$x_1 is 'LotAreaLog'\\\\\n",
    "x_2 is 'YearBuilt'\\\\\n",
    "x_3 is 'OverallCond'\\\\\n",
    "x_4 is 'GarageArea'\\\\\n",
    "x_5 is 'HeatingQCnumber'\\\\\n",
    "x_6 is 'BsmtCondnumber'\\\\\n",
    "x_7 is 'LandSlopenumber'$$"
   ]
  },
  {
   "cell_type": "code",
   "execution_count": 487,
   "metadata": {},
   "outputs": [],
   "source": [
    "#now we will use our model to make prediction on test data\n",
    "prediction = reg.predict(test[['LotAreaLog','YearBuilt','OverallCond','GarageArea','HeatingQC_number','BsmtCond_number','LandSlope_number']])"
   ]
  },
  {
   "cell_type": "code",
   "execution_count": 488,
   "metadata": {},
   "outputs": [],
   "source": [
    "#we need to save results of our prediction and submit it\n",
    "sample_submission['SalePrice']=  np.exp( prediction)-1\n",
    "sample_submission.to_csv('submission.csv', index = None)"
   ]
  },
  {
   "cell_type": "code",
   "execution_count": 489,
   "metadata": {},
   "outputs": [
    {
     "name": "stdout",
     "output_type": "stream",
     "text": [
      "KFold(n_splits=5, random_state=None, shuffle=False)\n",
      "model.coef_:  [0.20788457 0.71093583 0.43495798 0.92558161 0.27604193 0.28611292\n",
      " 0.01861599] 8.628578471500877\n",
      "0 0.2110351898919516\n",
      "model.coef_:  [ 0.21182047  0.67337485  0.41083682  0.90358203  0.31062835  0.28403345\n",
      " -0.01099553] 8.644025609963462\n",
      "1 0.23974232188153133\n",
      "model.coef_:  [ 0.20211845  0.69135709  0.43542551  0.91953358  0.2776286   0.3162374\n",
      " -0.04517291] 8.738011138068005\n",
      "2 0.2430349580327904\n",
      "model.coef_:  [0.21251245 0.66334305 0.41374051 0.99338354 0.29599518 0.28585825\n",
      " 0.01150353] 8.60824313780265\n",
      "3 0.22971303077913433\n",
      "model.coef_:  [0.21591792 0.6852573  0.40550674 0.97534203 0.31446094 0.28526202\n",
      " 0.00530725] 8.560032154289765\n",
      "4 0.2518681287290734\n",
      "Mean rmse for 5-fold: 0.23507872586289622\n",
      "std rmse for 5-fold: 0.013955766639544388\n"
     ]
    }
   ],
   "source": [
    "#cross-validation time\n",
    "# from sklearn.model_selection import KFold\n",
    "# from sklearn.metrics import mean_squared_error, r2_score\n",
    "\n",
    "kf = KFold (n_splits = 5)\n",
    "kf.get_n_splits(train)\n",
    "\n",
    "print(kf)\n",
    "\n",
    "rmse_array = []\n",
    "\n",
    "i= 0   \n",
    "for i, (train_index, test_index) in enumerate(kf.split(train)):\n",
    "\n",
    "    X_train, X_test = train.loc[train_index, ['LotAreaLog','YearBuilt','OverallCond','GarageArea','HeatingQC_number','BsmtCond_number','LandSlope_number']], train.loc[test_index, ['LotAreaLog','YearBuilt','OverallCond','GarageArea','HeatingQC_number','BsmtCond_number','LandSlope_number']]\n",
    "    y_train, y_test = train.loc[train_index, 'SalePriceLog'], train.loc[test_index, 'SalePriceLog']\n",
    "    \n",
    "    model = LinearRegression()\n",
    "\n",
    "    model.fit(X_train, y_train)\n",
    "    print(\"model.coef_: \",model.coef_ , model.intercept_)\n",
    "    prediction = model.predict(X_test)\n",
    "    \n",
    "    rmse = np.sqrt(mean_squared_error(y_pred=prediction , y_true=y_test))    \n",
    "    rmse_array.append(rmse)\n",
    "    print(i, rmse)\n",
    "    \n",
    "print(\"Mean rmse for 5-fold: {}\".format(str(np.mean(rmse_array))))\n",
    "print(\"std rmse for 5-fold: {}\".format(str(np.std(rmse_array))))\n",
    "mean_rmse_5 = np.mean(rmse_array)"
   ]
  },
  {
   "cell_type": "markdown",
   "metadata": {},
   "source": [
    "# For our fourth linear regression model we got next results:\n",
    "\n",
    "### Kaggle score = 0.23798\n",
    "### Mean on folds of cross-validation = 0.23508"
   ]
  },
  {
   "cell_type": "markdown",
   "metadata": {},
   "source": [
    "# Final results"
   ]
  },
  {
   "cell_type": "code",
   "execution_count": 445,
   "metadata": {},
   "outputs": [],
   "source": [
    "#let's plot a graph with kaggle score and mean on folds of cross-validation\n",
    "means=[mean_rmse_1,mean_rmse_2,mean_rmse_3,mean_rmse_4,mean_rmse_5]\n",
    "kaggle=[0.28014,0.25269,0.24272,0.23801,0.23798]"
   ]
  },
  {
   "cell_type": "code",
   "execution_count": 446,
   "metadata": {},
   "outputs": [
    {
     "data": {
      "image/png": "[encoded data removed]",
      "text/plain": [
       "<Figure size 576x576 with 1 Axes>"
      ]
     },
     "metadata": {
      "needs_background": "light"
     },
     "output_type": "display_data"
    }
   ],
   "source": [
    "plt.figure(figsize= (8,8))\n",
    "plt.scatter( [mean_rmse_1,mean_rmse_2,mean_rmse_3,mean_rmse_4,mean_rmse_5], kaggle)\n",
    "plt.xlabel('Mean cross-validation')\n",
    "plt.ylabel('Kaggle')\n",
    "plt.show()"
   ]
  },
  {
   "cell_type": "code",
   "execution_count": null,
   "metadata": {},
   "outputs": [],
   "source": []
  }
 ],
 "metadata": {
  "kernelspec": {
   "display_name": "Python 3",
   "language": "python",
   "name": "python3"
  },
  "language_info": {
   "codemirror_mode": {
    "name": "ipython",
    "version": 3
   },
   "file_extension": ".py",
   "mimetype": "text/x-python",
   "name": "python",
   "nbconvert_exporter": "python",
   "pygments_lexer": "ipython3",
   "version": "3.7.3"
  }
 },
 "nbformat": 4,
 "nbformat_minor": 4
}
