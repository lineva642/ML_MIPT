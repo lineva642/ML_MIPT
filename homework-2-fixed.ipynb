{
 "cells": [
  {
   "cell_type": "code",
   "execution_count": 1,
   "metadata": {
    "_cell_guid": "b1076dfc-b9ad-4769-8c92-a6c4dae69d19",
    "_uuid": "8f2839f25d086af736a60e9eeb907d3b93b6e0e5"
   },
   "outputs": [
    {
     "name": "stdout",
     "output_type": "stream",
     "text": [
      "/kaggle/input/mlbio1/train.csv\n",
      "/kaggle/input/mlbio1/test.csv\n",
      "/kaggle/input/mlbio1/sample_submission.csv\n"
     ]
    }
   ],
   "source": [
    "# This Python 3 environment comes with many helpful analytics libraries installed\n",
    "# It is defined by the kaggle/python Docker image: https://github.com/kaggle/docker-python\n",
    "# For example, here's several helpful packages to load\n",
    "\n",
    "import numpy as np # linear algebra\n",
    "import pandas as pd # data processing, CSV file I/O (e.g. pd.read_csv)\n",
    "\n",
    "# Input data files are available in the read-only \"../input/\" directory\n",
    "# For example, running this (by clicking run or pressing Shift+Enter) will list all files under the input directory\n",
    "\n",
    "import os\n",
    "for dirname, _, filenames in os.walk('/kaggle/input'):\n",
    "    for filename in filenames:\n",
    "        print(os.path.join(dirname, filename))\n",
    "\n",
    "# You can write up to 5GB to the current directory (/kaggle/working/) that gets preserved as output when you create a version using \"Save & Run All\" \n",
    "# You can also write temporary files to /kaggle/temp/, but they won't be saved outside of the current session"
   ]
  },
  {
   "cell_type": "code",
   "execution_count": 2,
   "metadata": {
    "_cell_guid": "79c7e3d0-c299-4dcb-8224-4455121ee9b0",
    "_uuid": "d629ff2d2480ee46fbb7e2d37f6b5fab8052498a"
   },
   "outputs": [],
   "source": [
    "train = pd.read_csv('/kaggle/input/mlbio1/train.csv')\n",
    "test = pd.read_csv('/kaggle/input/mlbio1/test.csv')\n",
    "sample = pd.read_csv('/kaggle/input/mlbio1/sample_submission.csv')"
   ]
  },
  {
   "cell_type": "markdown",
   "metadata": {},
   "source": [
    "## Issue 1\n",
    "\n",
    "### Process data: normalize features, delete outliers, etc.\n",
    "\n",
    "#### $^{*}$ Read about WoE & make this processing for any feature"
   ]
  },
  {
   "cell_type": "code",
   "execution_count": 3,
   "metadata": {},
   "outputs": [
    {
     "data": {
      "text/html": [
       "<div>\n",
       "<style scoped>\n",
       "    .dataframe tbody tr th:only-of-type {\n",
       "        vertical-align: middle;\n",
       "    }\n",
       "\n",
       "    .dataframe tbody tr th {\n",
       "        vertical-align: top;\n",
       "    }\n",
       "\n",
       "    .dataframe thead th {\n",
       "        text-align: right;\n",
       "    }\n",
       "</style>\n",
       "<table border=\"1\" class=\"dataframe\">\n",
       "  <thead>\n",
       "    <tr style=\"text-align: right;\">\n",
       "      <th></th>\n",
       "      <th>id</th>\n",
       "      <th>gender</th>\n",
       "      <th>age</th>\n",
       "      <th>hypertension</th>\n",
       "      <th>heart_disease</th>\n",
       "      <th>ever_married</th>\n",
       "      <th>work_type</th>\n",
       "      <th>Residence_type</th>\n",
       "      <th>avg_glucose_level</th>\n",
       "      <th>bmi</th>\n",
       "      <th>smoking_status</th>\n",
       "      <th>stroke</th>\n",
       "    </tr>\n",
       "  </thead>\n",
       "  <tbody>\n",
       "    <tr>\n",
       "      <th>0</th>\n",
       "      <td>30669</td>\n",
       "      <td>Male</td>\n",
       "      <td>3.0</td>\n",
       "      <td>0</td>\n",
       "      <td>0</td>\n",
       "      <td>No</td>\n",
       "      <td>children</td>\n",
       "      <td>Rural</td>\n",
       "      <td>95.12</td>\n",
       "      <td>18.0</td>\n",
       "      <td>NaN</td>\n",
       "      <td>0</td>\n",
       "    </tr>\n",
       "    <tr>\n",
       "      <th>1</th>\n",
       "      <td>30468</td>\n",
       "      <td>Male</td>\n",
       "      <td>58.0</td>\n",
       "      <td>1</td>\n",
       "      <td>0</td>\n",
       "      <td>Yes</td>\n",
       "      <td>Private</td>\n",
       "      <td>Urban</td>\n",
       "      <td>87.96</td>\n",
       "      <td>39.2</td>\n",
       "      <td>never smoked</td>\n",
       "      <td>0</td>\n",
       "    </tr>\n",
       "    <tr>\n",
       "      <th>2</th>\n",
       "      <td>16523</td>\n",
       "      <td>Female</td>\n",
       "      <td>8.0</td>\n",
       "      <td>0</td>\n",
       "      <td>0</td>\n",
       "      <td>No</td>\n",
       "      <td>Private</td>\n",
       "      <td>Urban</td>\n",
       "      <td>110.89</td>\n",
       "      <td>17.6</td>\n",
       "      <td>NaN</td>\n",
       "      <td>0</td>\n",
       "    </tr>\n",
       "    <tr>\n",
       "      <th>3</th>\n",
       "      <td>56543</td>\n",
       "      <td>Female</td>\n",
       "      <td>70.0</td>\n",
       "      <td>0</td>\n",
       "      <td>0</td>\n",
       "      <td>Yes</td>\n",
       "      <td>Private</td>\n",
       "      <td>Rural</td>\n",
       "      <td>69.04</td>\n",
       "      <td>35.9</td>\n",
       "      <td>formerly smoked</td>\n",
       "      <td>0</td>\n",
       "    </tr>\n",
       "    <tr>\n",
       "      <th>4</th>\n",
       "      <td>46136</td>\n",
       "      <td>Male</td>\n",
       "      <td>14.0</td>\n",
       "      <td>0</td>\n",
       "      <td>0</td>\n",
       "      <td>No</td>\n",
       "      <td>Never_worked</td>\n",
       "      <td>Rural</td>\n",
       "      <td>161.28</td>\n",
       "      <td>19.1</td>\n",
       "      <td>NaN</td>\n",
       "      <td>0</td>\n",
       "    </tr>\n",
       "    <tr>\n",
       "      <th>...</th>\n",
       "      <td>...</td>\n",
       "      <td>...</td>\n",
       "      <td>...</td>\n",
       "      <td>...</td>\n",
       "      <td>...</td>\n",
       "      <td>...</td>\n",
       "      <td>...</td>\n",
       "      <td>...</td>\n",
       "      <td>...</td>\n",
       "      <td>...</td>\n",
       "      <td>...</td>\n",
       "      <td>...</td>\n",
       "    </tr>\n",
       "    <tr>\n",
       "      <th>29996</th>\n",
       "      <td>72228</td>\n",
       "      <td>Female</td>\n",
       "      <td>48.0</td>\n",
       "      <td>1</td>\n",
       "      <td>0</td>\n",
       "      <td>No</td>\n",
       "      <td>Govt_job</td>\n",
       "      <td>Rural</td>\n",
       "      <td>119.19</td>\n",
       "      <td>34.3</td>\n",
       "      <td>never smoked</td>\n",
       "      <td>0</td>\n",
       "    </tr>\n",
       "    <tr>\n",
       "      <th>29997</th>\n",
       "      <td>14747</td>\n",
       "      <td>Male</td>\n",
       "      <td>72.0</td>\n",
       "      <td>0</td>\n",
       "      <td>0</td>\n",
       "      <td>Yes</td>\n",
       "      <td>Self-employed</td>\n",
       "      <td>Urban</td>\n",
       "      <td>86.83</td>\n",
       "      <td>34.8</td>\n",
       "      <td>NaN</td>\n",
       "      <td>0</td>\n",
       "    </tr>\n",
       "    <tr>\n",
       "      <th>29998</th>\n",
       "      <td>50636</td>\n",
       "      <td>Female</td>\n",
       "      <td>20.0</td>\n",
       "      <td>0</td>\n",
       "      <td>0</td>\n",
       "      <td>No</td>\n",
       "      <td>Private</td>\n",
       "      <td>Rural</td>\n",
       "      <td>67.76</td>\n",
       "      <td>19.7</td>\n",
       "      <td>never smoked</td>\n",
       "      <td>0</td>\n",
       "    </tr>\n",
       "    <tr>\n",
       "      <th>29999</th>\n",
       "      <td>43161</td>\n",
       "      <td>Female</td>\n",
       "      <td>27.0</td>\n",
       "      <td>0</td>\n",
       "      <td>0</td>\n",
       "      <td>No</td>\n",
       "      <td>Private</td>\n",
       "      <td>Urban</td>\n",
       "      <td>82.65</td>\n",
       "      <td>22.5</td>\n",
       "      <td>never smoked</td>\n",
       "      <td>0</td>\n",
       "    </tr>\n",
       "    <tr>\n",
       "      <th>30000</th>\n",
       "      <td>37061</td>\n",
       "      <td>Male</td>\n",
       "      <td>19.0</td>\n",
       "      <td>0</td>\n",
       "      <td>0</td>\n",
       "      <td>No</td>\n",
       "      <td>Private</td>\n",
       "      <td>Rural</td>\n",
       "      <td>92.61</td>\n",
       "      <td>16.8</td>\n",
       "      <td>never smoked</td>\n",
       "      <td>0</td>\n",
       "    </tr>\n",
       "  </tbody>\n",
       "</table>\n",
       "<p>30001 rows × 12 columns</p>\n",
       "</div>"
      ],
      "text/plain": [
       "          id  gender   age  hypertension  heart_disease ever_married  \\\n",
       "0      30669    Male   3.0             0              0           No   \n",
       "1      30468    Male  58.0             1              0          Yes   \n",
       "2      16523  Female   8.0             0              0           No   \n",
       "3      56543  Female  70.0             0              0          Yes   \n",
       "4      46136    Male  14.0             0              0           No   \n",
       "...      ...     ...   ...           ...            ...          ...   \n",
       "29996  72228  Female  48.0             1              0           No   \n",
       "29997  14747    Male  72.0             0              0          Yes   \n",
       "29998  50636  Female  20.0             0              0           No   \n",
       "29999  43161  Female  27.0             0              0           No   \n",
       "30000  37061    Male  19.0             0              0           No   \n",
       "\n",
       "           work_type Residence_type  avg_glucose_level   bmi   smoking_status  \\\n",
       "0           children          Rural              95.12  18.0              NaN   \n",
       "1            Private          Urban              87.96  39.2     never smoked   \n",
       "2            Private          Urban             110.89  17.6              NaN   \n",
       "3            Private          Rural              69.04  35.9  formerly smoked   \n",
       "4       Never_worked          Rural             161.28  19.1              NaN   \n",
       "...              ...            ...                ...   ...              ...   \n",
       "29996       Govt_job          Rural             119.19  34.3     never smoked   \n",
       "29997  Self-employed          Urban              86.83  34.8              NaN   \n",
       "29998        Private          Rural              67.76  19.7     never smoked   \n",
       "29999        Private          Urban              82.65  22.5     never smoked   \n",
       "30000        Private          Rural              92.61  16.8     never smoked   \n",
       "\n",
       "       stroke  \n",
       "0           0  \n",
       "1           0  \n",
       "2           0  \n",
       "3           0  \n",
       "4           0  \n",
       "...       ...  \n",
       "29996       0  \n",
       "29997       0  \n",
       "29998       0  \n",
       "29999       0  \n",
       "30000       0  \n",
       "\n",
       "[30001 rows x 12 columns]"
      ]
     },
     "execution_count": 3,
     "metadata": {},
     "output_type": "execute_result"
    }
   ],
   "source": [
    "#Let's take a look on our data\n",
    "train"
   ]
  },
  {
   "cell_type": "markdown",
   "metadata": {},
   "source": [
    "## 1.1. WoE and IV\n",
    "\n",
    "### First of all, I would like to try this WoE and IV thing because it can make our job easier and define valuable features.\n",
    "\n",
    "### As a feature I chose age because it should be easy :)"
   ]
  },
  {
   "cell_type": "code",
   "execution_count": 4,
   "metadata": {},
   "outputs": [
    {
     "name": "stdout",
     "output_type": "stream",
     "text": [
      "min age is 0.08\n",
      "max age is 82.0\n",
      "  Age Group  Have stroke  Haven't stroke\n",
      "0    0 - 10            1            3119\n",
      "1   11 - 20            1            3008\n",
      "2   21 - 30            1            3666\n",
      "3   31 - 40           14            3882\n",
      "4   41 - 50           38            4362\n",
      "5   51 - 60           90            4585\n",
      "6   61 - 70          117            3442\n",
      "7   71 - 82          268            3407\n"
     ]
    }
   ],
   "source": [
    "WoE_table = train[['age','stroke']]\n",
    "\n",
    "#I'd like to sort this table by age\n",
    "WoE_table = WoE_table.sort_values('age')\n",
    "\n",
    "#First step - we should split our data in ~10 categories\n",
    "a_max = WoE_table['age'].values[-1]\n",
    "a_min = WoE_table['age'].values[1]\n",
    "print('min age is',a_min)\n",
    "print('max age is',a_max)\n",
    "\n",
    "#what? 0.08? what does it mean? okay, let's pretend that it's okay\n",
    "group_name = []\n",
    "events = []\n",
    "non_events = []\n",
    "for i in range(1,9):\n",
    "    if i==1:\n",
    "        part = WoE_table[(WoE_table['age']>=0) & (WoE_table['age']<=10)]\n",
    "        group = '0 - 10'\n",
    "\n",
    "    elif i==8:\n",
    "        part = WoE_table[(WoE_table['age']>=71) & (WoE_table['age']<=82)]\n",
    "        group = '71 - 82'\n",
    "    else:\n",
    "        part = WoE_table[(WoE_table['age']>=((i-1)*10+1)) & (WoE_table['age']<=((i)*10))]\n",
    "        group = str(((i-1)*10+1)) + ' - ' + str((i)*10)\n",
    "        \n",
    "    event = part['stroke'].sum()\n",
    "    non_event = len(part['stroke'].values) - event\n",
    "    \n",
    "    group_name.append(group)\n",
    "    events.append(event)\n",
    "    non_events.append(non_event)\n",
    "\n",
    "#We've processed data and receive 8 age groups    \n",
    "IV_table = pd.DataFrame({'Age Group':group_name, 'Have stroke': events, \"Haven't stroke\": non_events})\n",
    "print(IV_table)"
   ]
  },
  {
   "cell_type": "code",
   "execution_count": 5,
   "metadata": {},
   "outputs": [
    {
     "name": "stdout",
     "output_type": "stream",
     "text": [
      "Total IV for age is 219.91\n"
     ]
    },
    {
     "data": {
      "text/html": [
       "<div>\n",
       "<style scoped>\n",
       "    .dataframe tbody tr th:only-of-type {\n",
       "        vertical-align: middle;\n",
       "    }\n",
       "\n",
       "    .dataframe tbody tr th {\n",
       "        vertical-align: top;\n",
       "    }\n",
       "\n",
       "    .dataframe thead th {\n",
       "        text-align: right;\n",
       "    }\n",
       "</style>\n",
       "<table border=\"1\" class=\"dataframe\">\n",
       "  <thead>\n",
       "    <tr style=\"text-align: right;\">\n",
       "      <th></th>\n",
       "      <th>Age Group</th>\n",
       "      <th>Have stroke</th>\n",
       "      <th>Haven't stroke</th>\n",
       "      <th>% Have stroke</th>\n",
       "      <th>% Haven't stroke</th>\n",
       "      <th>WoE</th>\n",
       "      <th>IV</th>\n",
       "    </tr>\n",
       "  </thead>\n",
       "  <tbody>\n",
       "    <tr>\n",
       "      <th>0</th>\n",
       "      <td>0 - 10</td>\n",
       "      <td>1</td>\n",
       "      <td>3119</td>\n",
       "      <td>0.188679</td>\n",
       "      <td>10.583285</td>\n",
       "      <td>4.026983</td>\n",
       "      <td>41.858899</td>\n",
       "    </tr>\n",
       "    <tr>\n",
       "      <th>1</th>\n",
       "      <td>11 - 20</td>\n",
       "      <td>1</td>\n",
       "      <td>3008</td>\n",
       "      <td>0.188679</td>\n",
       "      <td>10.206644</td>\n",
       "      <td>3.990746</td>\n",
       "      <td>39.979149</td>\n",
       "    </tr>\n",
       "    <tr>\n",
       "      <th>2</th>\n",
       "      <td>21 - 30</td>\n",
       "      <td>1</td>\n",
       "      <td>3666</td>\n",
       "      <td>0.188679</td>\n",
       "      <td>12.439347</td>\n",
       "      <td>4.188571</td>\n",
       "      <td>51.312798</td>\n",
       "    </tr>\n",
       "    <tr>\n",
       "      <th>3</th>\n",
       "      <td>31 - 40</td>\n",
       "      <td>14</td>\n",
       "      <td>3882</td>\n",
       "      <td>2.641509</td>\n",
       "      <td>13.172271</td>\n",
       "      <td>1.606763</td>\n",
       "      <td>16.920443</td>\n",
       "    </tr>\n",
       "    <tr>\n",
       "      <th>4</th>\n",
       "      <td>41 - 50</td>\n",
       "      <td>38</td>\n",
       "      <td>4362</td>\n",
       "      <td>7.169811</td>\n",
       "      <td>14.800991</td>\n",
       "      <td>0.724815</td>\n",
       "      <td>5.531192</td>\n",
       "    </tr>\n",
       "    <tr>\n",
       "      <th>5</th>\n",
       "      <td>51 - 60</td>\n",
       "      <td>90</td>\n",
       "      <td>4585</td>\n",
       "      <td>16.981132</td>\n",
       "      <td>15.557667</td>\n",
       "      <td>-0.087549</td>\n",
       "      <td>0.124623</td>\n",
       "    </tr>\n",
       "    <tr>\n",
       "      <th>6</th>\n",
       "      <td>61 - 70</td>\n",
       "      <td>117</td>\n",
       "      <td>3442</td>\n",
       "      <td>22.075472</td>\n",
       "      <td>11.679278</td>\n",
       "      <td>-0.636651</td>\n",
       "      <td>6.618747</td>\n",
       "    </tr>\n",
       "    <tr>\n",
       "      <th>7</th>\n",
       "      <td>71 - 82</td>\n",
       "      <td>268</td>\n",
       "      <td>3407</td>\n",
       "      <td>50.566038</td>\n",
       "      <td>11.560517</td>\n",
       "      <td>-1.475685</td>\n",
       "      <td>57.559845</td>\n",
       "    </tr>\n",
       "  </tbody>\n",
       "</table>\n",
       "</div>"
      ],
      "text/plain": [
       "  Age Group  Have stroke  Haven't stroke  % Have stroke  % Haven't stroke  \\\n",
       "0    0 - 10            1            3119       0.188679         10.583285   \n",
       "1   11 - 20            1            3008       0.188679         10.206644   \n",
       "2   21 - 30            1            3666       0.188679         12.439347   \n",
       "3   31 - 40           14            3882       2.641509         13.172271   \n",
       "4   41 - 50           38            4362       7.169811         14.800991   \n",
       "5   51 - 60           90            4585      16.981132         15.557667   \n",
       "6   61 - 70          117            3442      22.075472         11.679278   \n",
       "7   71 - 82          268            3407      50.566038         11.560517   \n",
       "\n",
       "        WoE         IV  \n",
       "0  4.026983  41.858899  \n",
       "1  3.990746  39.979149  \n",
       "2  4.188571  51.312798  \n",
       "3  1.606763  16.920443  \n",
       "4  0.724815   5.531192  \n",
       "5 -0.087549   0.124623  \n",
       "6 -0.636651   6.618747  \n",
       "7 -1.475685  57.559845  "
      ]
     },
     "execution_count": 5,
     "metadata": {},
     "output_type": "execute_result"
    }
   ],
   "source": [
    "#Let's calculate WoE for each of groups\n",
    "\n",
    "#first of all, we should define '% Have stroke',\"% Haven't stroke\"\n",
    "def get_percentage(row,column,summ):\n",
    "    return (row[column]/summ)*100\n",
    "\n",
    "IV_table['% Have stroke']=IV_table.apply(get_percentage,args=['Have stroke',IV_table['Have stroke'].sum()],axis=1)\n",
    "IV_table[\"% Haven't stroke\"]=IV_table.apply(get_percentage,args=[\"Haven't stroke\",IV_table[\"Haven't stroke\"].sum()],axis=1)\n",
    "\n",
    "#now we are ready to calculate WoE\n",
    "import math\n",
    "def WoE(row):\n",
    "    return math.log(row[\"% Haven't stroke\"]/row['% Have stroke'])\n",
    "IV_table['WoE'] = IV_table.apply(WoE,axis=1)\n",
    "\n",
    "#Final step is to calculate IV for each group and summerize it\n",
    "def IV(row):\n",
    "    return (row[\"% Haven't stroke\"] - row['% Have stroke']) * row['WoE']\n",
    "IV_table['IV'] = IV_table.apply(IV,axis=1)\n",
    "print('Total IV for age is', (IV_table['IV'].sum()).round(2))\n",
    "\n",
    "#Let's take a look at result.\n",
    "IV_table"
   ]
  },
  {
   "cell_type": "markdown",
   "metadata": {},
   "source": [
    "#### So, what can we say according to IV of 'age' feature? Its predictive power is 'suspicious or too good to be true'. I think it's quite obvious that such groups as children and very old people contribute the most in WoE and therefore in IV according to formulae."
   ]
  },
  {
   "cell_type": "markdown",
   "metadata": {},
   "source": [
    "## 1.2. Data processing"
   ]
  },
  {
   "cell_type": "code",
   "execution_count": 6,
   "metadata": {},
   "outputs": [
    {
     "data": {
      "text/html": [
       "<div>\n",
       "<style scoped>\n",
       "    .dataframe tbody tr th:only-of-type {\n",
       "        vertical-align: middle;\n",
       "    }\n",
       "\n",
       "    .dataframe tbody tr th {\n",
       "        vertical-align: top;\n",
       "    }\n",
       "\n",
       "    .dataframe thead th {\n",
       "        text-align: right;\n",
       "    }\n",
       "</style>\n",
       "<table border=\"1\" class=\"dataframe\">\n",
       "  <thead>\n",
       "    <tr style=\"text-align: right;\">\n",
       "      <th></th>\n",
       "      <th>id</th>\n",
       "      <th>gender</th>\n",
       "      <th>age</th>\n",
       "      <th>hypertension</th>\n",
       "      <th>heart_disease</th>\n",
       "      <th>ever_married</th>\n",
       "      <th>work_type</th>\n",
       "      <th>Residence_type</th>\n",
       "      <th>avg_glucose_level</th>\n",
       "      <th>bmi</th>\n",
       "      <th>smoking_status</th>\n",
       "      <th>stroke</th>\n",
       "    </tr>\n",
       "  </thead>\n",
       "  <tbody>\n",
       "    <tr>\n",
       "      <th>0</th>\n",
       "      <td>30669</td>\n",
       "      <td>Male</td>\n",
       "      <td>3.0</td>\n",
       "      <td>0</td>\n",
       "      <td>0</td>\n",
       "      <td>No</td>\n",
       "      <td>children</td>\n",
       "      <td>Rural</td>\n",
       "      <td>95.12</td>\n",
       "      <td>18.0</td>\n",
       "      <td>NaN</td>\n",
       "      <td>0</td>\n",
       "    </tr>\n",
       "    <tr>\n",
       "      <th>1</th>\n",
       "      <td>30468</td>\n",
       "      <td>Male</td>\n",
       "      <td>58.0</td>\n",
       "      <td>1</td>\n",
       "      <td>0</td>\n",
       "      <td>Yes</td>\n",
       "      <td>Private</td>\n",
       "      <td>Urban</td>\n",
       "      <td>87.96</td>\n",
       "      <td>39.2</td>\n",
       "      <td>never smoked</td>\n",
       "      <td>0</td>\n",
       "    </tr>\n",
       "    <tr>\n",
       "      <th>2</th>\n",
       "      <td>16523</td>\n",
       "      <td>Female</td>\n",
       "      <td>8.0</td>\n",
       "      <td>0</td>\n",
       "      <td>0</td>\n",
       "      <td>No</td>\n",
       "      <td>Private</td>\n",
       "      <td>Urban</td>\n",
       "      <td>110.89</td>\n",
       "      <td>17.6</td>\n",
       "      <td>NaN</td>\n",
       "      <td>0</td>\n",
       "    </tr>\n",
       "    <tr>\n",
       "      <th>3</th>\n",
       "      <td>56543</td>\n",
       "      <td>Female</td>\n",
       "      <td>70.0</td>\n",
       "      <td>0</td>\n",
       "      <td>0</td>\n",
       "      <td>Yes</td>\n",
       "      <td>Private</td>\n",
       "      <td>Rural</td>\n",
       "      <td>69.04</td>\n",
       "      <td>35.9</td>\n",
       "      <td>formerly smoked</td>\n",
       "      <td>0</td>\n",
       "    </tr>\n",
       "    <tr>\n",
       "      <th>4</th>\n",
       "      <td>46136</td>\n",
       "      <td>Male</td>\n",
       "      <td>14.0</td>\n",
       "      <td>0</td>\n",
       "      <td>0</td>\n",
       "      <td>No</td>\n",
       "      <td>Never_worked</td>\n",
       "      <td>Rural</td>\n",
       "      <td>161.28</td>\n",
       "      <td>19.1</td>\n",
       "      <td>NaN</td>\n",
       "      <td>0</td>\n",
       "    </tr>\n",
       "    <tr>\n",
       "      <th>...</th>\n",
       "      <td>...</td>\n",
       "      <td>...</td>\n",
       "      <td>...</td>\n",
       "      <td>...</td>\n",
       "      <td>...</td>\n",
       "      <td>...</td>\n",
       "      <td>...</td>\n",
       "      <td>...</td>\n",
       "      <td>...</td>\n",
       "      <td>...</td>\n",
       "      <td>...</td>\n",
       "      <td>...</td>\n",
       "    </tr>\n",
       "    <tr>\n",
       "      <th>29996</th>\n",
       "      <td>72228</td>\n",
       "      <td>Female</td>\n",
       "      <td>48.0</td>\n",
       "      <td>1</td>\n",
       "      <td>0</td>\n",
       "      <td>No</td>\n",
       "      <td>Govt_job</td>\n",
       "      <td>Rural</td>\n",
       "      <td>119.19</td>\n",
       "      <td>34.3</td>\n",
       "      <td>never smoked</td>\n",
       "      <td>0</td>\n",
       "    </tr>\n",
       "    <tr>\n",
       "      <th>29997</th>\n",
       "      <td>14747</td>\n",
       "      <td>Male</td>\n",
       "      <td>72.0</td>\n",
       "      <td>0</td>\n",
       "      <td>0</td>\n",
       "      <td>Yes</td>\n",
       "      <td>Self-employed</td>\n",
       "      <td>Urban</td>\n",
       "      <td>86.83</td>\n",
       "      <td>34.8</td>\n",
       "      <td>NaN</td>\n",
       "      <td>0</td>\n",
       "    </tr>\n",
       "    <tr>\n",
       "      <th>29998</th>\n",
       "      <td>50636</td>\n",
       "      <td>Female</td>\n",
       "      <td>20.0</td>\n",
       "      <td>0</td>\n",
       "      <td>0</td>\n",
       "      <td>No</td>\n",
       "      <td>Private</td>\n",
       "      <td>Rural</td>\n",
       "      <td>67.76</td>\n",
       "      <td>19.7</td>\n",
       "      <td>never smoked</td>\n",
       "      <td>0</td>\n",
       "    </tr>\n",
       "    <tr>\n",
       "      <th>29999</th>\n",
       "      <td>43161</td>\n",
       "      <td>Female</td>\n",
       "      <td>27.0</td>\n",
       "      <td>0</td>\n",
       "      <td>0</td>\n",
       "      <td>No</td>\n",
       "      <td>Private</td>\n",
       "      <td>Urban</td>\n",
       "      <td>82.65</td>\n",
       "      <td>22.5</td>\n",
       "      <td>never smoked</td>\n",
       "      <td>0</td>\n",
       "    </tr>\n",
       "    <tr>\n",
       "      <th>30000</th>\n",
       "      <td>37061</td>\n",
       "      <td>Male</td>\n",
       "      <td>19.0</td>\n",
       "      <td>0</td>\n",
       "      <td>0</td>\n",
       "      <td>No</td>\n",
       "      <td>Private</td>\n",
       "      <td>Rural</td>\n",
       "      <td>92.61</td>\n",
       "      <td>16.8</td>\n",
       "      <td>never smoked</td>\n",
       "      <td>0</td>\n",
       "    </tr>\n",
       "  </tbody>\n",
       "</table>\n",
       "<p>30001 rows × 12 columns</p>\n",
       "</div>"
      ],
      "text/plain": [
       "          id  gender   age  hypertension  heart_disease ever_married  \\\n",
       "0      30669    Male   3.0             0              0           No   \n",
       "1      30468    Male  58.0             1              0          Yes   \n",
       "2      16523  Female   8.0             0              0           No   \n",
       "3      56543  Female  70.0             0              0          Yes   \n",
       "4      46136    Male  14.0             0              0           No   \n",
       "...      ...     ...   ...           ...            ...          ...   \n",
       "29996  72228  Female  48.0             1              0           No   \n",
       "29997  14747    Male  72.0             0              0          Yes   \n",
       "29998  50636  Female  20.0             0              0           No   \n",
       "29999  43161  Female  27.0             0              0           No   \n",
       "30000  37061    Male  19.0             0              0           No   \n",
       "\n",
       "           work_type Residence_type  avg_glucose_level   bmi   smoking_status  \\\n",
       "0           children          Rural              95.12  18.0              NaN   \n",
       "1            Private          Urban              87.96  39.2     never smoked   \n",
       "2            Private          Urban             110.89  17.6              NaN   \n",
       "3            Private          Rural              69.04  35.9  formerly smoked   \n",
       "4       Never_worked          Rural             161.28  19.1              NaN   \n",
       "...              ...            ...                ...   ...              ...   \n",
       "29996       Govt_job          Rural             119.19  34.3     never smoked   \n",
       "29997  Self-employed          Urban              86.83  34.8              NaN   \n",
       "29998        Private          Rural              67.76  19.7     never smoked   \n",
       "29999        Private          Urban              82.65  22.5     never smoked   \n",
       "30000        Private          Rural              92.61  16.8     never smoked   \n",
       "\n",
       "       stroke  \n",
       "0           0  \n",
       "1           0  \n",
       "2           0  \n",
       "3           0  \n",
       "4           0  \n",
       "...       ...  \n",
       "29996       0  \n",
       "29997       0  \n",
       "29998       0  \n",
       "29999       0  \n",
       "30000       0  \n",
       "\n",
       "[30001 rows x 12 columns]"
      ]
     },
     "execution_count": 6,
     "metadata": {},
     "output_type": "execute_result"
    }
   ],
   "source": [
    "#Let's remember how our data look like\n",
    "train"
   ]
  },
  {
   "cell_type": "code",
   "execution_count": 7,
   "metadata": {
    "_kg_hide-output": true
   },
   "outputs": [],
   "source": [
    "#Okay, we've got 10 features\n",
    "#let's look closely to each one\n",
    "\n",
    "##1-gender\n",
    "\n",
    "train['gender'].value_counts()\n",
    "#we've got three types, let's substitute them with numbers\n",
    "train['gender'].replace( {'Female': 1, 'Male': 0, 'Other': -1} ,inplace = True)\n",
    "\n",
    "\n",
    "##I think hypertension, heart disease data is okay, let it be this way"
   ]
  },
  {
   "cell_type": "code",
   "execution_count": 8,
   "metadata": {},
   "outputs": [],
   "source": [
    "##2-ever_married\n",
    "\n",
    "train['ever_married'].value_counts()\n",
    "#As I can see we haven't any nans here,so I will just substitute strings with numbers\n",
    "train['ever_married'].replace( {'Yes': 1, 'No': 0} ,inplace = True)\n"
   ]
  },
  {
   "cell_type": "code",
   "execution_count": 9,
   "metadata": {},
   "outputs": [],
   "source": [
    "##3-work_type\n",
    "\n",
    "train['work_type'].value_counts()\n",
    "#let's try something new for this\n",
    "train['work_type'].replace( dict(train['work_type'].value_counts(1)),inplace = True)"
   ]
  },
  {
   "cell_type": "code",
   "execution_count": 10,
   "metadata": {},
   "outputs": [
    {
     "data": {
      "text/html": [
       "<div>\n",
       "<style scoped>\n",
       "    .dataframe tbody tr th:only-of-type {\n",
       "        vertical-align: middle;\n",
       "    }\n",
       "\n",
       "    .dataframe tbody tr th {\n",
       "        vertical-align: top;\n",
       "    }\n",
       "\n",
       "    .dataframe thead th {\n",
       "        text-align: right;\n",
       "    }\n",
       "</style>\n",
       "<table border=\"1\" class=\"dataframe\">\n",
       "  <thead>\n",
       "    <tr style=\"text-align: right;\">\n",
       "      <th></th>\n",
       "      <th>id</th>\n",
       "      <th>gender</th>\n",
       "      <th>age</th>\n",
       "      <th>hypertension</th>\n",
       "      <th>heart_disease</th>\n",
       "      <th>ever_married</th>\n",
       "      <th>work_type</th>\n",
       "      <th>Residence_type</th>\n",
       "      <th>avg_glucose_level</th>\n",
       "      <th>bmi</th>\n",
       "      <th>smoking_status</th>\n",
       "      <th>stroke</th>\n",
       "    </tr>\n",
       "  </thead>\n",
       "  <tbody>\n",
       "    <tr>\n",
       "      <th>0</th>\n",
       "      <td>30669</td>\n",
       "      <td>0</td>\n",
       "      <td>3.0</td>\n",
       "      <td>0</td>\n",
       "      <td>0</td>\n",
       "      <td>0</td>\n",
       "      <td>0.139595</td>\n",
       "      <td>1</td>\n",
       "      <td>95.12</td>\n",
       "      <td>18.0</td>\n",
       "      <td>NaN</td>\n",
       "      <td>0</td>\n",
       "    </tr>\n",
       "    <tr>\n",
       "      <th>1</th>\n",
       "      <td>30468</td>\n",
       "      <td>0</td>\n",
       "      <td>58.0</td>\n",
       "      <td>1</td>\n",
       "      <td>0</td>\n",
       "      <td>1</td>\n",
       "      <td>0.573981</td>\n",
       "      <td>0</td>\n",
       "      <td>87.96</td>\n",
       "      <td>39.2</td>\n",
       "      <td>never smoked</td>\n",
       "      <td>0</td>\n",
       "    </tr>\n",
       "    <tr>\n",
       "      <th>2</th>\n",
       "      <td>16523</td>\n",
       "      <td>1</td>\n",
       "      <td>8.0</td>\n",
       "      <td>0</td>\n",
       "      <td>0</td>\n",
       "      <td>0</td>\n",
       "      <td>0.573981</td>\n",
       "      <td>0</td>\n",
       "      <td>110.89</td>\n",
       "      <td>17.6</td>\n",
       "      <td>NaN</td>\n",
       "      <td>0</td>\n",
       "    </tr>\n",
       "    <tr>\n",
       "      <th>3</th>\n",
       "      <td>56543</td>\n",
       "      <td>1</td>\n",
       "      <td>70.0</td>\n",
       "      <td>0</td>\n",
       "      <td>0</td>\n",
       "      <td>1</td>\n",
       "      <td>0.573981</td>\n",
       "      <td>1</td>\n",
       "      <td>69.04</td>\n",
       "      <td>35.9</td>\n",
       "      <td>formerly smoked</td>\n",
       "      <td>0</td>\n",
       "    </tr>\n",
       "    <tr>\n",
       "      <th>4</th>\n",
       "      <td>46136</td>\n",
       "      <td>0</td>\n",
       "      <td>14.0</td>\n",
       "      <td>0</td>\n",
       "      <td>0</td>\n",
       "      <td>0</td>\n",
       "      <td>0.003833</td>\n",
       "      <td>1</td>\n",
       "      <td>161.28</td>\n",
       "      <td>19.1</td>\n",
       "      <td>NaN</td>\n",
       "      <td>0</td>\n",
       "    </tr>\n",
       "    <tr>\n",
       "      <th>...</th>\n",
       "      <td>...</td>\n",
       "      <td>...</td>\n",
       "      <td>...</td>\n",
       "      <td>...</td>\n",
       "      <td>...</td>\n",
       "      <td>...</td>\n",
       "      <td>...</td>\n",
       "      <td>...</td>\n",
       "      <td>...</td>\n",
       "      <td>...</td>\n",
       "      <td>...</td>\n",
       "      <td>...</td>\n",
       "    </tr>\n",
       "    <tr>\n",
       "      <th>29996</th>\n",
       "      <td>72228</td>\n",
       "      <td>1</td>\n",
       "      <td>48.0</td>\n",
       "      <td>1</td>\n",
       "      <td>0</td>\n",
       "      <td>0</td>\n",
       "      <td>0.126796</td>\n",
       "      <td>1</td>\n",
       "      <td>119.19</td>\n",
       "      <td>34.3</td>\n",
       "      <td>never smoked</td>\n",
       "      <td>0</td>\n",
       "    </tr>\n",
       "    <tr>\n",
       "      <th>29997</th>\n",
       "      <td>14747</td>\n",
       "      <td>0</td>\n",
       "      <td>72.0</td>\n",
       "      <td>0</td>\n",
       "      <td>0</td>\n",
       "      <td>1</td>\n",
       "      <td>0.155795</td>\n",
       "      <td>0</td>\n",
       "      <td>86.83</td>\n",
       "      <td>34.8</td>\n",
       "      <td>NaN</td>\n",
       "      <td>0</td>\n",
       "    </tr>\n",
       "    <tr>\n",
       "      <th>29998</th>\n",
       "      <td>50636</td>\n",
       "      <td>1</td>\n",
       "      <td>20.0</td>\n",
       "      <td>0</td>\n",
       "      <td>0</td>\n",
       "      <td>0</td>\n",
       "      <td>0.573981</td>\n",
       "      <td>1</td>\n",
       "      <td>67.76</td>\n",
       "      <td>19.7</td>\n",
       "      <td>never smoked</td>\n",
       "      <td>0</td>\n",
       "    </tr>\n",
       "    <tr>\n",
       "      <th>29999</th>\n",
       "      <td>43161</td>\n",
       "      <td>1</td>\n",
       "      <td>27.0</td>\n",
       "      <td>0</td>\n",
       "      <td>0</td>\n",
       "      <td>0</td>\n",
       "      <td>0.573981</td>\n",
       "      <td>0</td>\n",
       "      <td>82.65</td>\n",
       "      <td>22.5</td>\n",
       "      <td>never smoked</td>\n",
       "      <td>0</td>\n",
       "    </tr>\n",
       "    <tr>\n",
       "      <th>30000</th>\n",
       "      <td>37061</td>\n",
       "      <td>0</td>\n",
       "      <td>19.0</td>\n",
       "      <td>0</td>\n",
       "      <td>0</td>\n",
       "      <td>0</td>\n",
       "      <td>0.573981</td>\n",
       "      <td>1</td>\n",
       "      <td>92.61</td>\n",
       "      <td>16.8</td>\n",
       "      <td>never smoked</td>\n",
       "      <td>0</td>\n",
       "    </tr>\n",
       "  </tbody>\n",
       "</table>\n",
       "<p>30001 rows × 12 columns</p>\n",
       "</div>"
      ],
      "text/plain": [
       "          id  gender   age  hypertension  heart_disease  ever_married  \\\n",
       "0      30669       0   3.0             0              0             0   \n",
       "1      30468       0  58.0             1              0             1   \n",
       "2      16523       1   8.0             0              0             0   \n",
       "3      56543       1  70.0             0              0             1   \n",
       "4      46136       0  14.0             0              0             0   \n",
       "...      ...     ...   ...           ...            ...           ...   \n",
       "29996  72228       1  48.0             1              0             0   \n",
       "29997  14747       0  72.0             0              0             1   \n",
       "29998  50636       1  20.0             0              0             0   \n",
       "29999  43161       1  27.0             0              0             0   \n",
       "30000  37061       0  19.0             0              0             0   \n",
       "\n",
       "       work_type  Residence_type  avg_glucose_level   bmi   smoking_status  \\\n",
       "0       0.139595               1              95.12  18.0              NaN   \n",
       "1       0.573981               0              87.96  39.2     never smoked   \n",
       "2       0.573981               0             110.89  17.6              NaN   \n",
       "3       0.573981               1              69.04  35.9  formerly smoked   \n",
       "4       0.003833               1             161.28  19.1              NaN   \n",
       "...          ...             ...                ...   ...              ...   \n",
       "29996   0.126796               1             119.19  34.3     never smoked   \n",
       "29997   0.155795               0              86.83  34.8              NaN   \n",
       "29998   0.573981               1              67.76  19.7     never smoked   \n",
       "29999   0.573981               0              82.65  22.5     never smoked   \n",
       "30000   0.573981               1              92.61  16.8     never smoked   \n",
       "\n",
       "       stroke  \n",
       "0           0  \n",
       "1           0  \n",
       "2           0  \n",
       "3           0  \n",
       "4           0  \n",
       "...       ...  \n",
       "29996       0  \n",
       "29997       0  \n",
       "29998       0  \n",
       "29999       0  \n",
       "30000       0  \n",
       "\n",
       "[30001 rows x 12 columns]"
      ]
     },
     "execution_count": 10,
     "metadata": {},
     "output_type": "execute_result"
    }
   ],
   "source": [
    "##4-Residence_type\n",
    "train['Residence_type'].value_counts()\n",
    "train['Residence_type'].replace( {'Rural': 1, 'Urban': 0} ,inplace = True)\n",
    "train"
   ]
  },
  {
   "cell_type": "code",
   "execution_count": 11,
   "metadata": {},
   "outputs": [],
   "source": [
    "##5-bmi(body mass index)\n",
    "#let's just normalize it\n",
    "_min = min(train['bmi'].values)\n",
    "_max = max(train['bmi'].values)\n",
    "train['bmi'] = (train['bmi'] - _min)/(_max - _min)\n",
    "bmi_mean = train['bmi'].mean()\n",
    "train['bmi'] = train['bmi'].fillna(bmi_mean)"
   ]
  },
  {
   "cell_type": "code",
   "execution_count": 12,
   "metadata": {},
   "outputs": [
    {
     "data": {
      "text/html": [
       "<div>\n",
       "<style scoped>\n",
       "    .dataframe tbody tr th:only-of-type {\n",
       "        vertical-align: middle;\n",
       "    }\n",
       "\n",
       "    .dataframe tbody tr th {\n",
       "        vertical-align: top;\n",
       "    }\n",
       "\n",
       "    .dataframe thead th {\n",
       "        text-align: right;\n",
       "    }\n",
       "</style>\n",
       "<table border=\"1\" class=\"dataframe\">\n",
       "  <thead>\n",
       "    <tr style=\"text-align: right;\">\n",
       "      <th></th>\n",
       "      <th>id</th>\n",
       "      <th>gender</th>\n",
       "      <th>age</th>\n",
       "      <th>hypertension</th>\n",
       "      <th>heart_disease</th>\n",
       "      <th>ever_married</th>\n",
       "      <th>work_type</th>\n",
       "      <th>Residence_type</th>\n",
       "      <th>avg_glucose_level</th>\n",
       "      <th>bmi</th>\n",
       "      <th>smoking_status</th>\n",
       "      <th>stroke</th>\n",
       "    </tr>\n",
       "  </thead>\n",
       "  <tbody>\n",
       "    <tr>\n",
       "      <th>0</th>\n",
       "      <td>30669</td>\n",
       "      <td>0</td>\n",
       "      <td>3.0</td>\n",
       "      <td>0</td>\n",
       "      <td>0</td>\n",
       "      <td>0</td>\n",
       "      <td>0.139595</td>\n",
       "      <td>1</td>\n",
       "      <td>0.177060</td>\n",
       "      <td>0.090286</td>\n",
       "      <td>NaN</td>\n",
       "      <td>0</td>\n",
       "    </tr>\n",
       "    <tr>\n",
       "      <th>1</th>\n",
       "      <td>30468</td>\n",
       "      <td>0</td>\n",
       "      <td>58.0</td>\n",
       "      <td>1</td>\n",
       "      <td>0</td>\n",
       "      <td>1</td>\n",
       "      <td>0.573981</td>\n",
       "      <td>0</td>\n",
       "      <td>0.145461</td>\n",
       "      <td>0.332571</td>\n",
       "      <td>never smoked</td>\n",
       "      <td>0</td>\n",
       "    </tr>\n",
       "    <tr>\n",
       "      <th>2</th>\n",
       "      <td>16523</td>\n",
       "      <td>1</td>\n",
       "      <td>8.0</td>\n",
       "      <td>0</td>\n",
       "      <td>0</td>\n",
       "      <td>0</td>\n",
       "      <td>0.573981</td>\n",
       "      <td>0</td>\n",
       "      <td>0.246657</td>\n",
       "      <td>0.085714</td>\n",
       "      <td>NaN</td>\n",
       "      <td>0</td>\n",
       "    </tr>\n",
       "    <tr>\n",
       "      <th>3</th>\n",
       "      <td>56543</td>\n",
       "      <td>1</td>\n",
       "      <td>70.0</td>\n",
       "      <td>0</td>\n",
       "      <td>0</td>\n",
       "      <td>1</td>\n",
       "      <td>0.573981</td>\n",
       "      <td>1</td>\n",
       "      <td>0.061962</td>\n",
       "      <td>0.294857</td>\n",
       "      <td>formerly smoked</td>\n",
       "      <td>0</td>\n",
       "    </tr>\n",
       "    <tr>\n",
       "      <th>4</th>\n",
       "      <td>46136</td>\n",
       "      <td>0</td>\n",
       "      <td>14.0</td>\n",
       "      <td>0</td>\n",
       "      <td>0</td>\n",
       "      <td>0</td>\n",
       "      <td>0.003833</td>\n",
       "      <td>1</td>\n",
       "      <td>0.469041</td>\n",
       "      <td>0.102857</td>\n",
       "      <td>NaN</td>\n",
       "      <td>0</td>\n",
       "    </tr>\n",
       "    <tr>\n",
       "      <th>...</th>\n",
       "      <td>...</td>\n",
       "      <td>...</td>\n",
       "      <td>...</td>\n",
       "      <td>...</td>\n",
       "      <td>...</td>\n",
       "      <td>...</td>\n",
       "      <td>...</td>\n",
       "      <td>...</td>\n",
       "      <td>...</td>\n",
       "      <td>...</td>\n",
       "      <td>...</td>\n",
       "      <td>...</td>\n",
       "    </tr>\n",
       "    <tr>\n",
       "      <th>29996</th>\n",
       "      <td>72228</td>\n",
       "      <td>1</td>\n",
       "      <td>48.0</td>\n",
       "      <td>1</td>\n",
       "      <td>0</td>\n",
       "      <td>0</td>\n",
       "      <td>0.126796</td>\n",
       "      <td>1</td>\n",
       "      <td>0.283287</td>\n",
       "      <td>0.276571</td>\n",
       "      <td>never smoked</td>\n",
       "      <td>0</td>\n",
       "    </tr>\n",
       "    <tr>\n",
       "      <th>29997</th>\n",
       "      <td>14747</td>\n",
       "      <td>0</td>\n",
       "      <td>72.0</td>\n",
       "      <td>0</td>\n",
       "      <td>0</td>\n",
       "      <td>1</td>\n",
       "      <td>0.155795</td>\n",
       "      <td>0</td>\n",
       "      <td>0.140474</td>\n",
       "      <td>0.282286</td>\n",
       "      <td>NaN</td>\n",
       "      <td>0</td>\n",
       "    </tr>\n",
       "    <tr>\n",
       "      <th>29998</th>\n",
       "      <td>50636</td>\n",
       "      <td>1</td>\n",
       "      <td>20.0</td>\n",
       "      <td>0</td>\n",
       "      <td>0</td>\n",
       "      <td>0</td>\n",
       "      <td>0.573981</td>\n",
       "      <td>1</td>\n",
       "      <td>0.056313</td>\n",
       "      <td>0.109714</td>\n",
       "      <td>never smoked</td>\n",
       "      <td>0</td>\n",
       "    </tr>\n",
       "    <tr>\n",
       "      <th>29999</th>\n",
       "      <td>43161</td>\n",
       "      <td>1</td>\n",
       "      <td>27.0</td>\n",
       "      <td>0</td>\n",
       "      <td>0</td>\n",
       "      <td>0</td>\n",
       "      <td>0.573981</td>\n",
       "      <td>0</td>\n",
       "      <td>0.122027</td>\n",
       "      <td>0.141714</td>\n",
       "      <td>never smoked</td>\n",
       "      <td>0</td>\n",
       "    </tr>\n",
       "    <tr>\n",
       "      <th>30000</th>\n",
       "      <td>37061</td>\n",
       "      <td>0</td>\n",
       "      <td>19.0</td>\n",
       "      <td>0</td>\n",
       "      <td>0</td>\n",
       "      <td>0</td>\n",
       "      <td>0.573981</td>\n",
       "      <td>1</td>\n",
       "      <td>0.165983</td>\n",
       "      <td>0.076571</td>\n",
       "      <td>never smoked</td>\n",
       "      <td>0</td>\n",
       "    </tr>\n",
       "  </tbody>\n",
       "</table>\n",
       "<p>30001 rows × 12 columns</p>\n",
       "</div>"
      ],
      "text/plain": [
       "          id  gender   age  hypertension  heart_disease  ever_married  \\\n",
       "0      30669       0   3.0             0              0             0   \n",
       "1      30468       0  58.0             1              0             1   \n",
       "2      16523       1   8.0             0              0             0   \n",
       "3      56543       1  70.0             0              0             1   \n",
       "4      46136       0  14.0             0              0             0   \n",
       "...      ...     ...   ...           ...            ...           ...   \n",
       "29996  72228       1  48.0             1              0             0   \n",
       "29997  14747       0  72.0             0              0             1   \n",
       "29998  50636       1  20.0             0              0             0   \n",
       "29999  43161       1  27.0             0              0             0   \n",
       "30000  37061       0  19.0             0              0             0   \n",
       "\n",
       "       work_type  Residence_type  avg_glucose_level       bmi  \\\n",
       "0       0.139595               1           0.177060  0.090286   \n",
       "1       0.573981               0           0.145461  0.332571   \n",
       "2       0.573981               0           0.246657  0.085714   \n",
       "3       0.573981               1           0.061962  0.294857   \n",
       "4       0.003833               1           0.469041  0.102857   \n",
       "...          ...             ...                ...       ...   \n",
       "29996   0.126796               1           0.283287  0.276571   \n",
       "29997   0.155795               0           0.140474  0.282286   \n",
       "29998   0.573981               1           0.056313  0.109714   \n",
       "29999   0.573981               0           0.122027  0.141714   \n",
       "30000   0.573981               1           0.165983  0.076571   \n",
       "\n",
       "        smoking_status  stroke  \n",
       "0                  NaN       0  \n",
       "1         never smoked       0  \n",
       "2                  NaN       0  \n",
       "3      formerly smoked       0  \n",
       "4                  NaN       0  \n",
       "...                ...     ...  \n",
       "29996     never smoked       0  \n",
       "29997              NaN       0  \n",
       "29998     never smoked       0  \n",
       "29999     never smoked       0  \n",
       "30000     never smoked       0  \n",
       "\n",
       "[30001 rows x 12 columns]"
      ]
     },
     "execution_count": 12,
     "metadata": {},
     "output_type": "execute_result"
    }
   ],
   "source": [
    "##6-avg_glucose_level\n",
    "_min = min(train['avg_glucose_level'].values)\n",
    "_max = max(train['avg_glucose_level'].values)\n",
    "train['avg_glucose_level'] = (train['avg_glucose_level'] - _min)/(_max - _min)\n",
    "train"
   ]
  },
  {
   "cell_type": "code",
   "execution_count": 13,
   "metadata": {},
   "outputs": [],
   "source": [
    "##7-smoking_status\n",
    "train['smoking_status'].value_counts()\n",
    "train['smoking_status'].replace( {'never smoked': 1, 'formerly smoked': 0, 'smokes': -1} ,inplace = True)\n",
    "train['smoking_status'] = train['smoking_status'].fillna(0)"
   ]
  },
  {
   "cell_type": "code",
   "execution_count": 14,
   "metadata": {},
   "outputs": [],
   "source": [
    "##8-age\n",
    "#let's substitute it with WoE\n",
    "def age_to_WoE(row,IV_table):\n",
    "    if row['age']%10 !=0:\n",
    "        group = (row['age']//10)\n",
    "#         return IV_table['WoE'][group]    \n",
    "    else:\n",
    "        group = (row['age']//10) - 1    \n",
    "    if group==8:\n",
    "        group = group - 1\n",
    "    return IV_table['WoE'][group]\n",
    "train['age']=train.apply(age_to_WoE,args=[IV_table],axis=1)"
   ]
  },
  {
   "cell_type": "code",
   "execution_count": 15,
   "metadata": {},
   "outputs": [],
   "source": [
    "#Let's do the same things with test dataset\n",
    "test['gender'].replace( {'Female': 1, 'Male': 0, 'Other': -1} ,inplace = True)\n",
    "\n",
    "test['ever_married'].replace( {'Yes': 1, 'No': 0} ,inplace = True)\n",
    "\n",
    "test['work_type'].replace( dict(test['work_type'].value_counts(1)),inplace = True)\n",
    "\n",
    "test['Residence_type'].replace( {'Rural': 1, 'Urban': 0} ,inplace = True)\n",
    "\n",
    "_min = min(test['bmi'].values)\n",
    "_max = max(test['bmi'].values)\n",
    "test['bmi'] = (test['bmi'] - _min)/(_max - _min)\n",
    "bmi_mean = test['bmi'].mean()\n",
    "test['bmi'] = test['bmi'].fillna(bmi_mean)\n",
    "\n",
    "_min = min(test['avg_glucose_level'].values)\n",
    "_max = max(test['avg_glucose_level'].values)\n",
    "test['avg_glucose_level'] = (test['avg_glucose_level'] - _min)/(_max - _min)\n",
    "\n",
    "test['smoking_status'].replace( {'never smoked': 1, 'formerly smoked': 0, 'smokes': -1} ,inplace = True)\n",
    "test['smoking_status'] = test['smoking_status'].fillna(0)\n",
    "\n",
    "test['age']=test.apply(age_to_WoE,args=[IV_table],axis=1)"
   ]
  },
  {
   "cell_type": "markdown",
   "metadata": {},
   "source": [
    "## Issue 2\n",
    "\n",
    "### Q: Make feature selection using common sense. Why you select these features?\n",
    "\n",
    "### A: I'd like to choose such features as: work type, bmi, smoking status, hypertension and age. I make this choice because, in my view, work type, bmi, age and smoking status define the health status of a person. Hypertension is a serious disease which is connected with cardiovascular system. \n",
    "\n"
   ]
  },
  {
   "cell_type": "markdown",
   "metadata": {},
   "source": [
    "## Issue 3\n",
    "\n",
    "###  For each of 3 algorithms (logistic regression, decision tree, and random forest) select 3 hyperparameters:\n",
    "    1) For each of the selected hyperparameters choose 5 values, fix other parameters, and make cross-validation. \n",
    "    2) Plot mean CV score from hyperparameter value\n",
    "    3) Comment"
   ]
  },
  {
   "cell_type": "markdown",
   "metadata": {},
   "source": [
    "### 1. Logistic regresson\n",
    "\n",
    "#### For hyperparameters I chose tol (tolerance for stopping criteria), max_iter (Maximum number of iterations taken for the solvers to converge), solver (Algorithm to use in the optimization problem)."
   ]
  },
  {
   "cell_type": "markdown",
   "metadata": {},
   "source": [
    "### 1.1.Hyperparameter - tol"
   ]
  },
  {
   "cell_type": "code",
   "execution_count": 42,
   "metadata": {},
   "outputs": [],
   "source": [
    "import matplotlib.pyplot as plt\n",
    "from sklearn.linear_model import LogisticRegression\n",
    "from sklearn.model_selection import KFold\n",
    "from sklearn.metrics import roc_auc_score\n",
    "\n",
    "features_list = ['work_type','bmi','smoking_status','hypertension','age']\n",
    "target_name = 'stroke'"
   ]
  },
  {
   "cell_type": "code",
   "execution_count": 43,
   "metadata": {},
   "outputs": [],
   "source": [
    "def cross_validation_LR(train, test, features_list, target_name, tol_value, max_iter_value, solver_name):\n",
    "    kf = KFold (n_splits = 5)\n",
    "    kf.get_n_splits(train)\n",
    "    \n",
    "    auc_list=[]\n",
    "\n",
    "    i= 0   \n",
    "    for i, (train_index, test_index) in enumerate(kf.split(train)):\n",
    "\n",
    "        X_train, X_test = train.loc[train_index, features_list], train.loc[test_index, features_list]\n",
    "        y_train, y_test = train.loc[train_index, target_name], train.loc[test_index, target_name]\n",
    "\n",
    "        model = LogisticRegression(tol=tol_value, max_iter=max_iter_value, solver=solver_name)\n",
    "\n",
    "        model.fit(X_train, y_train)\n",
    "\n",
    "        test_pred = model.predict_proba(X_test)[:,1]\n",
    "\n",
    "        auc = roc_auc_score(y_score=test_pred, y_true = y_test )\n",
    "        auc_list.append(auc)\n",
    "    \n",
    "    print(\"Mean auc for 5-fold: {}\".format(str(np.mean(auc_list))))\n",
    "\n",
    "    return np.mean(auc_list)"
   ]
  },
  {
   "cell_type": "code",
   "execution_count": 44,
   "metadata": {},
   "outputs": [
    {
     "name": "stdout",
     "output_type": "stream",
     "text": [
      "Mean auc for 5-fold: 0.8322625101109559\n",
      "Mean auc for 5-fold: 0.8321930147697953\n",
      "Mean auc for 5-fold: 0.8151371604501015\n",
      "Mean auc for 5-fold: 0.8263089309082275\n",
      "Mean auc for 5-fold: 0.5\n"
     ]
    }
   ],
   "source": [
    "tols = [0.0001, 10, 1000, 10000, 1000000]\n",
    "max_iter = 100\n",
    "solver = 'lbfgs'\n",
    "auc_array_tols = []\n",
    "for elem in tols:\n",
    "    auc = cross_validation_LR(train, test, features_list, target_name, elem, max_iter, solver)\n",
    "    auc_array_tols.append(auc)"
   ]
  },
  {
   "cell_type": "code",
   "execution_count": 45,
   "metadata": {},
   "outputs": [
    {
     "data": {
      "image/png": "[encoded data removed]",
      "text/plain": [
       "<Figure size 576x576 with 1 Axes>"
      ]
     },
     "metadata": {
      "needs_background": "light"
     },
     "output_type": "display_data"
    }
   ],
   "source": [
    "plt.figure(figsize= (8,8))\n",
    "plt.scatter( tols, auc_array_tols)\n",
    "plt.xlabel('Tol')\n",
    "plt.ylabel('Mean cross-validation')\n",
    "plt.show()"
   ]
  },
  {
   "cell_type": "markdown",
   "metadata": {},
   "source": [
    "### This way, we can see that tolerance influences result of prediction: If it begins to grow, the result starts to get worse. Why is it so? Tolerance is stopping criteria so it tells algorithm to stop looking for minimum when some value of tolerance is achieved. Therefore, if tol is big, algorithm can stop searching when it's far from actual minimum.  "
   ]
  },
  {
   "cell_type": "markdown",
   "metadata": {},
   "source": [
    "### 1.2. Hyperparameter - max_ter "
   ]
  },
  {
   "cell_type": "code",
   "execution_count": 46,
   "metadata": {},
   "outputs": [
    {
     "name": "stdout",
     "output_type": "stream",
     "text": [
      "Mean auc for 5-fold: 0.8322625101109559\n",
      "Mean auc for 5-fold: 0.8322625101109559\n",
      "Mean auc for 5-fold: 0.8322625101109559\n",
      "Mean auc for 5-fold: 0.8322625101109559\n",
      "Mean auc for 5-fold: 0.8142732243138567\n"
     ]
    },
    {
     "name": "stderr",
     "output_type": "stream",
     "text": [
      "/opt/conda/lib/python3.7/site-packages/sklearn/linear_model/_logistic.py:764: ConvergenceWarning: lbfgs failed to converge (status=1):\n",
      "STOP: TOTAL NO. of ITERATIONS REACHED LIMIT.\n",
      "\n",
      "Increase the number of iterations (max_iter) or scale the data as shown in:\n",
      "    https://scikit-learn.org/stable/modules/preprocessing.html\n",
      "Please also refer to the documentation for alternative solver options:\n",
      "    https://scikit-learn.org/stable/modules/linear_model.html#logistic-regression\n",
      "  extra_warning_msg=_LOGISTIC_SOLVER_CONVERGENCE_MSG)\n",
      "/opt/conda/lib/python3.7/site-packages/sklearn/linear_model/_logistic.py:764: ConvergenceWarning: lbfgs failed to converge (status=1):\n",
      "STOP: TOTAL NO. of ITERATIONS REACHED LIMIT.\n",
      "\n",
      "Increase the number of iterations (max_iter) or scale the data as shown in:\n",
      "    https://scikit-learn.org/stable/modules/preprocessing.html\n",
      "Please also refer to the documentation for alternative solver options:\n",
      "    https://scikit-learn.org/stable/modules/linear_model.html#logistic-regression\n",
      "  extra_warning_msg=_LOGISTIC_SOLVER_CONVERGENCE_MSG)\n",
      "/opt/conda/lib/python3.7/site-packages/sklearn/linear_model/_logistic.py:764: ConvergenceWarning: lbfgs failed to converge (status=1):\n",
      "STOP: TOTAL NO. of ITERATIONS REACHED LIMIT.\n",
      "\n",
      "Increase the number of iterations (max_iter) or scale the data as shown in:\n",
      "    https://scikit-learn.org/stable/modules/preprocessing.html\n",
      "Please also refer to the documentation for alternative solver options:\n",
      "    https://scikit-learn.org/stable/modules/linear_model.html#logistic-regression\n",
      "  extra_warning_msg=_LOGISTIC_SOLVER_CONVERGENCE_MSG)\n",
      "/opt/conda/lib/python3.7/site-packages/sklearn/linear_model/_logistic.py:764: ConvergenceWarning: lbfgs failed to converge (status=1):\n",
      "STOP: TOTAL NO. of ITERATIONS REACHED LIMIT.\n",
      "\n",
      "Increase the number of iterations (max_iter) or scale the data as shown in:\n",
      "    https://scikit-learn.org/stable/modules/preprocessing.html\n",
      "Please also refer to the documentation for alternative solver options:\n",
      "    https://scikit-learn.org/stable/modules/linear_model.html#logistic-regression\n",
      "  extra_warning_msg=_LOGISTIC_SOLVER_CONVERGENCE_MSG)\n",
      "/opt/conda/lib/python3.7/site-packages/sklearn/linear_model/_logistic.py:764: ConvergenceWarning: lbfgs failed to converge (status=1):\n",
      "STOP: TOTAL NO. of ITERATIONS REACHED LIMIT.\n",
      "\n",
      "Increase the number of iterations (max_iter) or scale the data as shown in:\n",
      "    https://scikit-learn.org/stable/modules/preprocessing.html\n",
      "Please also refer to the documentation for alternative solver options:\n",
      "    https://scikit-learn.org/stable/modules/linear_model.html#logistic-regression\n",
      "  extra_warning_msg=_LOGISTIC_SOLVER_CONVERGENCE_MSG)\n"
     ]
    }
   ],
   "source": [
    "tol = 0.0001\n",
    "max_iter = [100, 1000, 50, 30, 5]\n",
    "solver = 'lbfgs'\n",
    "auc_array_max_iter = []\n",
    "for elem in max_iter:\n",
    "    auc = cross_validation_LR(train, test, features_list, target_name, tol, elem, solver)\n",
    "    auc_array_max_iter.append(auc)"
   ]
  },
  {
   "cell_type": "code",
   "execution_count": 47,
   "metadata": {},
   "outputs": [
    {
     "data": {
      "image/png": "[encoded data removed]",
      "text/plain": [
       "<Figure size 576x576 with 1 Axes>"
      ]
     },
     "metadata": {
      "needs_background": "light"
     },
     "output_type": "display_data"
    }
   ],
   "source": [
    "plt.figure(figsize= (8,8))\n",
    "plt.scatter( max_iter, auc_array_max_iter)\n",
    "plt.xlabel('max_iter')\n",
    "plt.ylabel('Mean cross-validation')\n",
    "plt.show()"
   ]
  },
  {
   "cell_type": "markdown",
   "metadata": {},
   "source": [
    "### This way, we can see that number of iterations doesn't affect much prediction results of our data. However, we can see that small number of iterations crushes the algorithm. So, we should be careful about it."
   ]
  },
  {
   "cell_type": "markdown",
   "metadata": {},
   "source": [
    "### 1.3.Hyperparameter-solver"
   ]
  },
  {
   "cell_type": "code",
   "execution_count": 48,
   "metadata": {},
   "outputs": [
    {
     "name": "stdout",
     "output_type": "stream",
     "text": [
      "Mean auc for 5-fold: 0.8322625101109559\n",
      "Mean auc for 5-fold: 0.8322622506208515\n",
      "Mean auc for 5-fold: 0.8319777997433466\n",
      "Mean auc for 5-fold: 0.8322632470948662\n",
      "Mean auc for 5-fold: 0.8322605391653954\n"
     ]
    }
   ],
   "source": [
    "tol = 0.0001\n",
    "max_iter = 100\n",
    "solvers = ['lbfgs','newton-cg', 'liblinear', 'sag', 'saga']\n",
    "auc_array_solvers = []\n",
    "for elem in solvers:\n",
    "    auc = cross_validation_LR(train, test, features_list, target_name, tol, max_iter, elem)\n",
    "    auc_array_solvers.append(auc)"
   ]
  },
  {
   "cell_type": "code",
   "execution_count": 70,
   "metadata": {},
   "outputs": [
    {
     "name": "stdout",
     "output_type": "stream",
     "text": [
      "0 - 'lbfgs',1 - 'newton-cg',2 - liblinear',3 - 'sag',4 - 'saga' \n"
     ]
    },
    {
     "data": {
      "image/png": "[encoded data removed]",
      "text/plain": [
       "<Figure size 576x576 with 1 Axes>"
      ]
     },
     "metadata": {
      "needs_background": "light"
     },
     "output_type": "display_data"
    }
   ],
   "source": [
    "y = np.array(auc_array_solvers)\n",
    "y = (y-0.8319)*10000\n",
    "print(\"0 - 'lbfgs',1 - 'newton-cg',2 - liblinear',3 - 'sag',4 - 'saga' \")\n",
    "plt.figure(figsize= (8,8))\n",
    "plt.scatter( np.arange(5), y)\n",
    "plt.xlabel('solver')\n",
    "plt.ylabel('Mean cross-validation')\n",
    "# plt.xticks(solvers)\n",
    "plt.xticks(np.arange(5))\n",
    "plt.show()"
   ]
  },
  {
   "cell_type": "markdown",
   "metadata": {},
   "source": [
    "### As we can see all solvers give nearly the same result. We can see some differences only in the third sign after comma. The best result is received by lbfgs solver."
   ]
  },
  {
   "cell_type": "markdown",
   "metadata": {},
   "source": [
    "### 2. Decision tree\n",
    "\n",
    "#### For hyperparameters I chose max_depth, min_samples_split (the minimum number of samples required to split an internal node), min_samples_leaf (the minimum number of samples required to be at a leaf node). "
   ]
  },
  {
   "cell_type": "markdown",
   "metadata": {},
   "source": [
    "### 2.1. Hyperparameter - max_depth"
   ]
  },
  {
   "cell_type": "code",
   "execution_count": 50,
   "metadata": {},
   "outputs": [],
   "source": [
    "from sklearn.tree import DecisionTreeClassifier"
   ]
  },
  {
   "cell_type": "code",
   "execution_count": 51,
   "metadata": {},
   "outputs": [],
   "source": [
    "def cross_validation_DT(train, test, features_list, target_name, max_depth_value, min_samples_split_value, min_samples_leaf_value):\n",
    "    kf = KFold (n_splits = 5)\n",
    "    kf.get_n_splits(train)\n",
    "\n",
    "    auc_list = []\n",
    "\n",
    "    i= 0   \n",
    "    for i, (train_index, test_index) in enumerate(kf.split(train)):\n",
    "\n",
    "        X_train, X_test = train.loc[train_index, features_list], train.loc[test_index, features_list]\n",
    "        y_train, y_test = train.loc[train_index, target_name], train.loc[test_index, target_name]\n",
    "\n",
    "        model = DecisionTreeClassifier( max_depth = max_depth_value, min_samples_split = min_samples_split_value, min_samples_leaf = min_samples_leaf_value)\n",
    "\n",
    "        model.fit(X_train, y_train)\n",
    "\n",
    "        test_pred = model.predict_proba(X_test)[:,1]\n",
    "\n",
    "        auc = roc_auc_score(y_score=test_pred, y_true = y_test )\n",
    "        auc_list.append(auc)\n",
    "\n",
    "    print(\"Mean auc for 5-fold: {}\".format(str(np.mean(auc_list))))\n",
    "\n",
    "    return np.mean(auc_list)"
   ]
  },
  {
   "cell_type": "code",
   "execution_count": 52,
   "metadata": {},
   "outputs": [
    {
     "name": "stdout",
     "output_type": "stream",
     "text": [
      "26\n"
     ]
    }
   ],
   "source": [
    "#Before I change max_depth of tree, I would like to see what depth of tree can be in our case\n",
    "model = DecisionTreeClassifier()\n",
    "\n",
    "model.fit(train[['work_type','bmi','smoking_status','hypertension','age']], train['stroke'])\n",
    "print(model.get_depth())"
   ]
  },
  {
   "cell_type": "code",
   "execution_count": 53,
   "metadata": {},
   "outputs": [
    {
     "name": "stdout",
     "output_type": "stream",
     "text": [
      "Mean auc for 5-fold: 0.5833231425855938\n",
      "Mean auc for 5-fold: 0.5825659921586113\n",
      "Mean auc for 5-fold: 0.5845915485168101\n",
      "Mean auc for 5-fold: 0.8011800369656639\n",
      "Mean auc for 5-fold: 0.6956659145908659\n"
     ]
    }
   ],
   "source": [
    "max_depth_value = [26,50,1000, 2, 1]\n",
    "min_samples_split_value = 2\n",
    "min_samples_leaf_value = 1\n",
    "auc_array_max_depth = []\n",
    "for elem in max_depth_value:\n",
    "    auc = cross_validation_DT(train, test, features_list, target_name, elem, min_samples_split_value, min_samples_leaf_value)\n",
    "    auc_array_max_depth.append(auc)"
   ]
  },
  {
   "cell_type": "code",
   "execution_count": 55,
   "metadata": {},
   "outputs": [
    {
     "data": {
      "image/png": "[encoded data removed]",
      "text/plain": [
       "<Figure size 576x576 with 1 Axes>"
      ]
     },
     "metadata": {
      "needs_background": "light"
     },
     "output_type": "display_data"
    }
   ],
   "source": [
    "plt.figure(figsize= (8,8))\n",
    "plt.scatter( max_depth_value, auc_array_max_depth)\n",
    "plt.xlabel('max_depth_value')\n",
    "plt.ylabel('Mean cross-validation')\n",
    "plt.show()"
   ]
  },
  {
   "cell_type": "markdown",
   "metadata": {},
   "source": [
    "### As we can see max_depth is a very important hyperparameter. When it wasn't fixed, our rmse wasn't optimal. When we fixed max_depth = 2, we got a better score. I think that the reason is that we got some parameter that mainly define whether person got stroke or not. I suppose that it is age."
   ]
  },
  {
   "cell_type": "markdown",
   "metadata": {},
   "source": [
    "### 2.2. Hyperparameter - min_samples_split[](http://)"
   ]
  },
  {
   "cell_type": "code",
   "execution_count": 56,
   "metadata": {},
   "outputs": [
    {
     "name": "stdout",
     "output_type": "stream",
     "text": [
      "Mean auc for 5-fold: 0.5833614537714115\n",
      "Mean auc for 5-fold: 0.6071505525850134\n",
      "Mean auc for 5-fold: 0.7131225148842206\n",
      "Mean auc for 5-fold: 0.8229616778603581\n",
      "Mean auc for 5-fold: 0.8256146078324008\n"
     ]
    }
   ],
   "source": [
    "max_depth_value = 26\n",
    "min_samples_split_value = [2, 10, 100, 1000, 5000]\n",
    "min_samples_leaf_value = 1\n",
    "auc_array_min_samples_split = []\n",
    "for elem in min_samples_split_value:\n",
    "    auc = cross_validation_DT(train, test, features_list, target_name, max_depth_value, elem, min_samples_leaf_value)\n",
    "    auc_array_min_samples_split.append(auc)"
   ]
  },
  {
   "cell_type": "code",
   "execution_count": 57,
   "metadata": {},
   "outputs": [
    {
     "data": {
      "image/png": "[encoded data removed]",
      "text/plain": [
       "<Figure size 576x576 with 1 Axes>"
      ]
     },
     "metadata": {
      "needs_background": "light"
     },
     "output_type": "display_data"
    }
   ],
   "source": [
    "plt.figure(figsize= (8,8))\n",
    "plt.scatter( min_samples_split_value, auc_array_min_samples_split)\n",
    "plt.xlabel('min_samples_split')\n",
    "plt.ylabel('Mean cross-validation')\n",
    "plt.show()"
   ]
  },
  {
   "cell_type": "markdown",
   "metadata": {},
   "source": [
    "### In this case, increasing of min_samples_split number results in increasing mean CV score. I think it is connected with previous case, the larger min_samples_split number the smaller max_depth we can get."
   ]
  },
  {
   "cell_type": "markdown",
   "metadata": {},
   "source": [
    "### 2.3.Hyperparameter-min_samples_leaf"
   ]
  },
  {
   "cell_type": "code",
   "execution_count": 58,
   "metadata": {},
   "outputs": [
    {
     "name": "stdout",
     "output_type": "stream",
     "text": [
      "Mean auc for 5-fold: 0.583284349693313\n",
      "Mean auc for 5-fold: 0.6479135148940675\n",
      "Mean auc for 5-fold: 0.7852326322920196\n",
      "Mean auc for 5-fold: 0.8273192326311316\n",
      "Mean auc for 5-fold: 0.7160183087050592\n"
     ]
    }
   ],
   "source": [
    "max_depth_value = 26\n",
    "min_samples_split_value = 2\n",
    "min_samples_leaf_value = [1, 10, 100, 1000, 10000]\n",
    "auc_array_min_samples_leaf = []\n",
    "for elem in min_samples_leaf_value:\n",
    "    auc = cross_validation_DT(train, test, features_list, target_name, max_depth_value, min_samples_split_value, elem)\n",
    "    auc_array_min_samples_leaf.append(auc)"
   ]
  },
  {
   "cell_type": "code",
   "execution_count": 59,
   "metadata": {},
   "outputs": [
    {
     "data": {
      "image/png": "[encoded data removed]",
      "text/plain": [
       "<Figure size 576x576 with 1 Axes>"
      ]
     },
     "metadata": {
      "needs_background": "light"
     },
     "output_type": "display_data"
    }
   ],
   "source": [
    "plt.figure(figsize= (8,8))\n",
    "plt.scatter( min_samples_leaf_value, auc_array_min_samples_leaf)\n",
    "plt.xlabel('min_samples_leaf')\n",
    "plt.ylabel('Mean cross-validation')\n",
    "plt.show()"
   ]
  },
  {
   "cell_type": "markdown",
   "metadata": {},
   "source": [
    "### In this case, increasing of min_samples_leaf number results in increasing mean CV score but at point 10000 mean CV score starts to fall again, so we got optimal value somewhere between 1000 and 10000."
   ]
  },
  {
   "cell_type": "markdown",
   "metadata": {},
   "source": [
    "### 3. Random forest\n",
    "\n",
    "#### For hyperparameters I chose n_estimators (the number of trees in the forest), max_depth, min_samples_split (the minimum number of samples required to split an internal node)."
   ]
  },
  {
   "cell_type": "markdown",
   "metadata": {},
   "source": [
    "### 3.1. Hyperparameter-n_estimators"
   ]
  },
  {
   "cell_type": "code",
   "execution_count": 60,
   "metadata": {},
   "outputs": [],
   "source": [
    "from sklearn.ensemble import RandomForestClassifier"
   ]
  },
  {
   "cell_type": "code",
   "execution_count": 61,
   "metadata": {},
   "outputs": [],
   "source": [
    "def cross_validation_RF(train, test, features_list, target_name, n_estimators_value, max_depth_value, min_samples_split_value):\n",
    "    kf = KFold (n_splits = 5)\n",
    "    kf.get_n_splits(train)\n",
    "    \n",
    "    auc_list = []\n",
    "\n",
    "    i= 0   \n",
    "    for i, (train_index, test_index) in enumerate(kf.split(train)):\n",
    "\n",
    "        X_train, X_test = train.loc[train_index, features_list], train.loc[test_index, features_list]\n",
    "        y_train, y_test = train.loc[train_index, target_name], train.loc[test_index, target_name]\n",
    "\n",
    "        model = RandomForestClassifier( n_estimators = n_estimators_value, max_depth = max_depth_value, min_samples_split = min_samples_split_value)\n",
    "\n",
    "        model.fit(X_train, y_train)\n",
    "\n",
    "        test_pred = model.predict_proba(X_test)[:,1]\n",
    "        \n",
    "        auc = roc_auc_score(y_score=test_pred, y_true = y_test )\n",
    "        auc_list.append(auc)\n",
    "\n",
    "\n",
    "    print(\"Mean auc for 5-fold: {}\".format(str(np.mean(auc_list))))\n",
    "\n",
    "    return np.mean(auc_list)"
   ]
  },
  {
   "cell_type": "code",
   "execution_count": 62,
   "metadata": {},
   "outputs": [
    {
     "name": "stdout",
     "output_type": "stream",
     "text": [
      "Mean auc for 5-fold: 0.6122764723521843\n",
      "Mean auc for 5-fold: 0.6699111285546211\n",
      "Mean auc for 5-fold: 0.6935248451926748\n",
      "Mean auc for 5-fold: 0.6920839096366137\n",
      "Mean auc for 5-fold: 0.6989975683148961\n"
     ]
    }
   ],
   "source": [
    "n_estimators_value = [10,100,200,300,500]\n",
    "max_depth_value = 20\n",
    "min_samples_split_value = 2\n",
    "auc_array_n_estimators = []\n",
    "for elem in n_estimators_value:\n",
    "    auc = cross_validation_RF(train, test, features_list, target_name, elem, max_depth_value, min_samples_split_value)\n",
    "    auc_array_n_estimators.append(auc)"
   ]
  },
  {
   "cell_type": "code",
   "execution_count": 63,
   "metadata": {},
   "outputs": [
    {
     "data": {
      "image/png": "[encoded data removed]",
      "text/plain": [
       "<Figure size 576x576 with 1 Axes>"
      ]
     },
     "metadata": {
      "needs_background": "light"
     },
     "output_type": "display_data"
    }
   ],
   "source": [
    "plt.figure(figsize= (8,8))\n",
    "plt.scatter( n_estimators_value, auc_array_n_estimators)\n",
    "plt.xlabel('n_estimators')\n",
    "plt.ylabel('Mean cross-validation')\n",
    "plt.show()"
   ]
  },
  {
   "cell_type": "markdown",
   "metadata": {},
   "source": [
    "### Thus, increasing in number of n_estimators have a good effect on prediction result. But it should be pointed out that the algorithm is becoming time-consuming with growth of n_estimators number."
   ]
  },
  {
   "cell_type": "markdown",
   "metadata": {},
   "source": [
    "### 3.2. Hyperparameter - max_depth"
   ]
  },
  {
   "cell_type": "code",
   "execution_count": 64,
   "metadata": {},
   "outputs": [
    {
     "name": "stdout",
     "output_type": "stream",
     "text": [
      "Mean auc for 5-fold: 0.8293312605638263\n",
      "Mean auc for 5-fold: 0.8047661911593715\n",
      "Mean auc for 5-fold: 0.6490658989057962\n",
      "Mean auc for 5-fold: 0.6445273713533213\n",
      "Mean auc for 5-fold: 0.6466954454469921\n"
     ]
    }
   ],
   "source": [
    "n_estimators_value = 100\n",
    "max_depth_value = [2, 10 ,50 ,100, 1000]\n",
    "min_samples_split_value = 2\n",
    "auc_array_max_depth = []\n",
    "for elem in max_depth_value:\n",
    "    auc = cross_validation_RF(train, test, features_list, target_name, n_estimators_value, elem, min_samples_split_value)\n",
    "    auc_array_max_depth.append(auc)"
   ]
  },
  {
   "cell_type": "code",
   "execution_count": 65,
   "metadata": {},
   "outputs": [
    {
     "data": {
      "image/png": "[encoded data removed]",
      "text/plain": [
       "<Figure size 576x576 with 1 Axes>"
      ]
     },
     "metadata": {
      "needs_background": "light"
     },
     "output_type": "display_data"
    }
   ],
   "source": [
    "plt.figure(figsize= (8,8))\n",
    "plt.scatter( max_depth_value, auc_array_max_depth)\n",
    "plt.xlabel('max_depth')\n",
    "plt.ylabel('Mean cross-validation')\n",
    "plt.show()"
   ]
  },
  {
   "cell_type": "markdown",
   "metadata": {},
   "source": [
    "### In our case big max_depth is dangerous. We get overfitted easily."
   ]
  },
  {
   "cell_type": "markdown",
   "metadata": {},
   "source": [
    "### 3.3.Hyperparameter - min_samples_split"
   ]
  },
  {
   "cell_type": "code",
   "execution_count": 66,
   "metadata": {},
   "outputs": [
    {
     "name": "stdout",
     "output_type": "stream",
     "text": [
      "Mean auc for 5-fold: 0.6660290599722192\n",
      "Mean auc for 5-fold: 0.7298463844115555\n",
      "Mean auc for 5-fold: 0.81490129459623\n",
      "Mean auc for 5-fold: 0.839027551263726\n",
      "Mean auc for 5-fold: 0.8315435056610285\n"
     ]
    }
   ],
   "source": [
    "n_estimators_value = 100\n",
    "max_depth_value = 20\n",
    "min_samples_split_value = [2, 10, 100, 1000, 5000]\n",
    "auc_array_min_samples_split = []\n",
    "for elem in min_samples_split_value:\n",
    "    auc = cross_validation_RF(train, test, features_list, target_name, n_estimators_value, max_depth_value, elem)\n",
    "    auc_array_min_samples_split.append(auc)"
   ]
  },
  {
   "cell_type": "code",
   "execution_count": 68,
   "metadata": {},
   "outputs": [
    {
     "data": {
      "image/png": "[encoded data removed]",
      "text/plain": [
       "<Figure size 576x576 with 1 Axes>"
      ]
     },
     "metadata": {
      "needs_background": "light"
     },
     "output_type": "display_data"
    }
   ],
   "source": [
    "plt.figure(figsize= (8,8))\n",
    "plt.scatter(min_samples_split_value, auc_array_min_samples_split)\n",
    "plt.xlabel('min_samples_split')\n",
    "plt.ylabel('Mean cross-validation')\n",
    "plt.show()"
   ]
  },
  {
   "cell_type": "markdown",
   "metadata": {},
   "source": [
    "### In this case, increasing of min_samples_split number results in increasing mean CV score but at point 5000 mean CV score starts to fall again, so we got optimal value somewhere between 1000 and 5000."
   ]
  },
  {
   "cell_type": "markdown",
   "metadata": {},
   "source": [
    "## Issue 4\n",
    "\n",
    "### Q: Make submit for each algorithm: logistic regression, decision tree, and random forest. Which one showed the best result?\n",
    "\n",
    "### I've got next results on Kaggle:\n",
    "\n",
    "### Logistic regression: 0.86112\n",
    "### Decision tree: 0.82611\n",
    "### Random forest: 0.85783\n",
    "\n",
    "### Logistic regression showed the best result."
   ]
  },
  {
   "cell_type": "code",
   "execution_count": null,
   "metadata": {},
   "outputs": [],
   "source": []
  }
 ],
 "metadata": {
  "kernelspec": {
   "display_name": "Python 3",
   "language": "python",
   "name": "python3"
  },
  "language_info": {
   "codemirror_mode": {
    "name": "ipython",
    "version": 3
   },
   "file_extension": ".py",
   "mimetype": "text/x-python",
   "name": "python",
   "nbconvert_exporter": "python",
   "pygments_lexer": "ipython3",
   "version": "3.8.3"
  }
 },
 "nbformat": 4,
 "nbformat_minor": 4
}
